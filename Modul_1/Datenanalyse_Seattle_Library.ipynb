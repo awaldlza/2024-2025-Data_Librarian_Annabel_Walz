{
 "cells": [
  {
   "cell_type": "markdown",
   "id": "82ea628a-89a1-44b6-bb00-9d89d5b67dde",
   "metadata": {},
   "source": [
    "# Datenanalyse Seattle Library"
   ]
  },
  {
   "cell_type": "code",
   "execution_count": 250,
   "id": "73e7abc2-21db-458f-9dc8-738a70b250a7",
   "metadata": {},
   "outputs": [],
   "source": [
    "import urllib.request\n",
    "import pandas as pd\n",
    "import matplotlib.pyplot as plt\n",
    "import csv"
   ]
  },
  {
   "cell_type": "markdown",
   "id": "ddb4374f-eb0e-470e-955c-5e416385cfb0",
   "metadata": {
    "jp-MarkdownHeadingCollapsed": true
   },
   "source": [
    "## (1) Titel und Autor für meistausgeliehene Medien im Januar 2023"
   ]
  },
  {
   "cell_type": "markdown",
   "id": "a143451c-6ea6-4c3f-ae49-a7c346c88f17",
   "metadata": {},
   "source": [
    "### Daten runterladen"
   ]
  },
  {
   "cell_type": "markdown",
   "id": "10ae15ce-df95-452c-88f7-f4a4a5882229",
   "metadata": {},
   "source": [
    "Daten werden schon bei Abfrage bei der API gefiltert nach digitalen und physischen Medien, Entleihjahr und -monat und Mindestanzahl von Ausleihen. Die Mindestanzahl wurde durch Testen so ermittelt, dass die Ausgabe unter den maximal 10.000 Einheiten blieb.\n",
    "Die Query wurde encoded mithilfe von [https://www.coderstool.com/querystring-encode](https://www.coderstool.com/querystring-encode)"
   ]
  },
  {
   "cell_type": "code",
   "execution_count": 254,
   "id": "96a0403b-b71b-4965-911a-4617b91e9217",
   "metadata": {},
   "outputs": [
    {
     "data": {
      "text/plain": [
       "('physical_2023-01.csv', <http.client.HTTPMessage at 0x7983fbb5dd00>)"
      ]
     },
     "execution_count": 254,
     "metadata": {},
     "output_type": "execute_result"
    }
   ],
   "source": [
    "# Query: Ausleihen im Januar 2023 von physischen Medien mit Ausleihzahl von mindestens 6\n",
    "url = f\"https://data.seattle.gov/resource/tmmm-ytt6.csv?$where=usageclass='Physical'&checkoutyear=2023&checkoutmonth=01%20AND%20checkouts%3E6&$limit=10000\"\n",
    "local_file_phys = \"physical_2023-01.csv\"\n",
    "urllib.request.urlretrieve(url, local_file_phys)"
   ]
  },
  {
   "cell_type": "code",
   "execution_count": 255,
   "id": "715469a8-5a42-4fc3-9200-322af8b835c2",
   "metadata": {},
   "outputs": [
    {
     "data": {
      "text/plain": [
       "('digital_2023-01.csv', <http.client.HTTPMessage at 0x7983fbb5d400>)"
      ]
     },
     "execution_count": 255,
     "metadata": {},
     "output_type": "execute_result"
    }
   ],
   "source": [
    "# Query: Ausleihen im Januar 2023 von digitalen Medien mit Ausleihzahl von mindestens 8\n",
    "url = \"https://data.seattle.gov/resource/tmmm-ytt6.csv?$where=usageclass='Digital'&checkoutyear=2023&checkoutmonth=01%20AND%20checkouts%3E8&$limit=10000\"\n",
    "local_file_dig = \"digital_2023-01.csv\"\n",
    "urllib.request.urlretrieve(url, local_file_dig)"
   ]
  },
  {
   "cell_type": "code",
   "execution_count": 256,
   "id": "3ecfefc7-539c-4a02-b5f5-96b344f59d94",
   "metadata": {},
   "outputs": [],
   "source": [
    "# Laden in Dateframes\n",
    "df_physical = pd.read_csv(local_file_phys)\n",
    "df_digital = pd.read_csv(local_file_dig)"
   ]
  },
  {
   "cell_type": "code",
   "execution_count": 257,
   "id": "ceda86f4-de3e-4310-b8f5-ee7df01e004f",
   "metadata": {},
   "outputs": [
    {
     "data": {
      "text/plain": [
       "(9975, 12)"
      ]
     },
     "execution_count": 257,
     "metadata": {},
     "output_type": "execute_result"
    }
   ],
   "source": [
    "df_physical.shape"
   ]
  },
  {
   "cell_type": "code",
   "execution_count": 258,
   "id": "3f37831e-f633-4b87-b679-049ad5299828",
   "metadata": {},
   "outputs": [
    {
     "data": {
      "text/plain": [
       "(8867, 12)"
      ]
     },
     "execution_count": 258,
     "metadata": {},
     "output_type": "execute_result"
    }
   ],
   "source": [
    "df_digital.shape"
   ]
  },
  {
   "cell_type": "markdown",
   "id": "bfc71f79-2a78-4944-ae72-0679aff377e6",
   "metadata": {},
   "source": [
    "### Die beiden meistausgeliehenen Objekte (physisch und digital)"
   ]
  },
  {
   "cell_type": "code",
   "execution_count": 260,
   "id": "d908fd0b-ce27-480f-b940-df4095172df5",
   "metadata": {},
   "outputs": [],
   "source": [
    "max_phys_int = df_physical[\"checkouts\"].max()\n",
    "max_dig_int = df_digital[\"checkouts\"].max()"
   ]
  },
  {
   "cell_type": "code",
   "execution_count": 261,
   "id": "611b6bc6-fadc-4ff8-9162-9d1c695e4801",
   "metadata": {},
   "outputs": [
    {
     "name": "stdout",
     "output_type": "stream",
     "text": [
      "Maximale Ausleihzahl eines physischen Objekts: 2115\n",
      "Maximale Ausleihzahl eines digitalen Objekts: 791\n"
     ]
    }
   ],
   "source": [
    "print(\"Maximale Ausleihzahl eines physischen Objekts: \" + str(max_phys_int))\n",
    "print(\"Maximale Ausleihzahl eines digitalen Objekts: \" + str(max_dig_int))"
   ]
  },
  {
   "cell_type": "code",
   "execution_count": 262,
   "id": "d37d20af-3dc7-4565-89d3-6be7a9cec02a",
   "metadata": {},
   "outputs": [],
   "source": [
    "max_phys_row = df_physical.loc[df_physical[\"checkouts\"] == max_phys_int]\n",
    "max_dig_row = df_digital.loc[df_digital[\"checkouts\"] == max_dig_int]"
   ]
  },
  {
   "cell_type": "code",
   "execution_count": 263,
   "id": "f35c02d0-5870-44ab-b84c-fd92f9795784",
   "metadata": {},
   "outputs": [
    {
     "data": {
      "text/html": [
       "<div>\n",
       "<style scoped>\n",
       "    .dataframe tbody tr th:only-of-type {\n",
       "        vertical-align: middle;\n",
       "    }\n",
       "\n",
       "    .dataframe tbody tr th {\n",
       "        vertical-align: top;\n",
       "    }\n",
       "\n",
       "    .dataframe thead th {\n",
       "        text-align: right;\n",
       "    }\n",
       "</style>\n",
       "<table border=\"1\" class=\"dataframe\">\n",
       "  <thead>\n",
       "    <tr style=\"text-align: right;\">\n",
       "      <th></th>\n",
       "      <th>usageclass</th>\n",
       "      <th>checkouttype</th>\n",
       "      <th>materialtype</th>\n",
       "      <th>checkoutyear</th>\n",
       "      <th>checkoutmonth</th>\n",
       "      <th>checkouts</th>\n",
       "      <th>title</th>\n",
       "      <th>isbn</th>\n",
       "      <th>creator</th>\n",
       "      <th>subjects</th>\n",
       "      <th>publisher</th>\n",
       "      <th>publicationyear</th>\n",
       "    </tr>\n",
       "  </thead>\n",
       "  <tbody>\n",
       "    <tr>\n",
       "      <th>1123</th>\n",
       "      <td>Physical</td>\n",
       "      <td>Horizon</td>\n",
       "      <td>MIXED</td>\n",
       "      <td>2023</td>\n",
       "      <td>1</td>\n",
       "      <td>2115</td>\n",
       "      <td>Headphones / Seattle Public Library.</td>\n",
       "      <td>NaN</td>\n",
       "      <td>NaN</td>\n",
       "      <td>NaN</td>\n",
       "      <td>Seattle Public Library</td>\n",
       "      <td>NaN</td>\n",
       "    </tr>\n",
       "  </tbody>\n",
       "</table>\n",
       "</div>"
      ],
      "text/plain": [
       "     usageclass checkouttype materialtype  checkoutyear  checkoutmonth  \\\n",
       "1123   Physical      Horizon        MIXED          2023              1   \n",
       "\n",
       "      checkouts                                 title isbn creator subjects  \\\n",
       "1123       2115  Headphones / Seattle Public Library.  NaN     NaN      NaN   \n",
       "\n",
       "                   publisher publicationyear  \n",
       "1123  Seattle Public Library             NaN  "
      ]
     },
     "execution_count": 263,
     "metadata": {},
     "output_type": "execute_result"
    }
   ],
   "source": [
    "max_phys_row"
   ]
  },
  {
   "cell_type": "code",
   "execution_count": 264,
   "id": "64301871-acf7-4f5f-8dd6-83427ed6eb62",
   "metadata": {},
   "outputs": [
    {
     "data": {
      "text/html": [
       "<div>\n",
       "<style scoped>\n",
       "    .dataframe tbody tr th:only-of-type {\n",
       "        vertical-align: middle;\n",
       "    }\n",
       "\n",
       "    .dataframe tbody tr th {\n",
       "        vertical-align: top;\n",
       "    }\n",
       "\n",
       "    .dataframe thead th {\n",
       "        text-align: right;\n",
       "    }\n",
       "</style>\n",
       "<table border=\"1\" class=\"dataframe\">\n",
       "  <thead>\n",
       "    <tr style=\"text-align: right;\">\n",
       "      <th></th>\n",
       "      <th>usageclass</th>\n",
       "      <th>checkouttype</th>\n",
       "      <th>materialtype</th>\n",
       "      <th>checkoutyear</th>\n",
       "      <th>checkoutmonth</th>\n",
       "      <th>checkouts</th>\n",
       "      <th>title</th>\n",
       "      <th>isbn</th>\n",
       "      <th>creator</th>\n",
       "      <th>subjects</th>\n",
       "      <th>publisher</th>\n",
       "      <th>publicationyear</th>\n",
       "    </tr>\n",
       "  </thead>\n",
       "  <tbody>\n",
       "    <tr>\n",
       "      <th>5137</th>\n",
       "      <td>Digital</td>\n",
       "      <td>OverDrive</td>\n",
       "      <td>AUDIOBOOK</td>\n",
       "      <td>2023</td>\n",
       "      <td>1</td>\n",
       "      <td>791</td>\n",
       "      <td>101 Essays That Will Change the Way You Think ...</td>\n",
       "      <td>9.781977e+12</td>\n",
       "      <td>Brianna Wiest</td>\n",
       "      <td>Essays, Philosophy, Self-Improvement, Nonfiction</td>\n",
       "      <td>Tantor Media, Inc</td>\n",
       "      <td>2021</td>\n",
       "    </tr>\n",
       "  </tbody>\n",
       "</table>\n",
       "</div>"
      ],
      "text/plain": [
       "     usageclass checkouttype materialtype  checkoutyear  checkoutmonth  \\\n",
       "5137    Digital    OverDrive    AUDIOBOOK          2023              1   \n",
       "\n",
       "      checkouts                                              title  \\\n",
       "5137        791  101 Essays That Will Change the Way You Think ...   \n",
       "\n",
       "              isbn        creator  \\\n",
       "5137  9.781977e+12  Brianna Wiest   \n",
       "\n",
       "                                              subjects          publisher  \\\n",
       "5137  Essays, Philosophy, Self-Improvement, Nonfiction  Tantor Media, Inc   \n",
       "\n",
       "      publicationyear  \n",
       "5137             2021  "
      ]
     },
     "execution_count": 264,
     "metadata": {},
     "output_type": "execute_result"
    }
   ],
   "source": [
    "max_dig_row"
   ]
  },
  {
   "cell_type": "markdown",
   "id": "96e0f94b-c61f-4d45-b4bf-3b376965e84f",
   "metadata": {},
   "source": [
    "Kombination beider Zeilen in eine Tabelle (hat keinen tieferen Sinn, ist nur zum concat-Ausprobieren)"
   ]
  },
  {
   "cell_type": "code",
   "execution_count": 265,
   "id": "5b9460a2-b875-4da2-8c1c-63a835fec010",
   "metadata": {},
   "outputs": [
    {
     "data": {
      "text/plain": [
       "pandas.core.frame.DataFrame"
      ]
     },
     "execution_count": 265,
     "metadata": {},
     "output_type": "execute_result"
    }
   ],
   "source": [
    "type(max_dig_row)"
   ]
  },
  {
   "cell_type": "code",
   "execution_count": 266,
   "id": "601c0f82-25d3-47a4-aa28-266fbd88fa1f",
   "metadata": {},
   "outputs": [
    {
     "name": "stderr",
     "output_type": "stream",
     "text": [
      "/tmp/ipykernel_47231/331941362.py:1: FutureWarning: The behavior of DataFrame concatenation with empty or all-NA entries is deprecated. In a future version, this will no longer exclude empty or all-NA columns when determining the result dtypes. To retain the old behavior, exclude the relevant entries before the concat operation.\n",
      "  max_df_combined = pd.concat([max_phys_row, max_dig_row])\n"
     ]
    },
    {
     "data": {
      "text/html": [
       "<div>\n",
       "<style scoped>\n",
       "    .dataframe tbody tr th:only-of-type {\n",
       "        vertical-align: middle;\n",
       "    }\n",
       "\n",
       "    .dataframe tbody tr th {\n",
       "        vertical-align: top;\n",
       "    }\n",
       "\n",
       "    .dataframe thead th {\n",
       "        text-align: right;\n",
       "    }\n",
       "</style>\n",
       "<table border=\"1\" class=\"dataframe\">\n",
       "  <thead>\n",
       "    <tr style=\"text-align: right;\">\n",
       "      <th></th>\n",
       "      <th>usageclass</th>\n",
       "      <th>checkouttype</th>\n",
       "      <th>materialtype</th>\n",
       "      <th>checkoutyear</th>\n",
       "      <th>checkoutmonth</th>\n",
       "      <th>checkouts</th>\n",
       "      <th>title</th>\n",
       "      <th>isbn</th>\n",
       "      <th>creator</th>\n",
       "      <th>subjects</th>\n",
       "      <th>publisher</th>\n",
       "      <th>publicationyear</th>\n",
       "    </tr>\n",
       "  </thead>\n",
       "  <tbody>\n",
       "    <tr>\n",
       "      <th>1123</th>\n",
       "      <td>Physical</td>\n",
       "      <td>Horizon</td>\n",
       "      <td>MIXED</td>\n",
       "      <td>2023</td>\n",
       "      <td>1</td>\n",
       "      <td>2115</td>\n",
       "      <td>Headphones / Seattle Public Library.</td>\n",
       "      <td>NaN</td>\n",
       "      <td>NaN</td>\n",
       "      <td>NaN</td>\n",
       "      <td>Seattle Public Library</td>\n",
       "      <td>NaN</td>\n",
       "    </tr>\n",
       "    <tr>\n",
       "      <th>5137</th>\n",
       "      <td>Digital</td>\n",
       "      <td>OverDrive</td>\n",
       "      <td>AUDIOBOOK</td>\n",
       "      <td>2023</td>\n",
       "      <td>1</td>\n",
       "      <td>791</td>\n",
       "      <td>101 Essays That Will Change the Way You Think ...</td>\n",
       "      <td>9.781977e+12</td>\n",
       "      <td>Brianna Wiest</td>\n",
       "      <td>Essays, Philosophy, Self-Improvement, Nonfiction</td>\n",
       "      <td>Tantor Media, Inc</td>\n",
       "      <td>2021</td>\n",
       "    </tr>\n",
       "  </tbody>\n",
       "</table>\n",
       "</div>"
      ],
      "text/plain": [
       "     usageclass checkouttype materialtype  checkoutyear  checkoutmonth  \\\n",
       "1123   Physical      Horizon        MIXED          2023              1   \n",
       "5137    Digital    OverDrive    AUDIOBOOK          2023              1   \n",
       "\n",
       "      checkouts                                              title  \\\n",
       "1123       2115               Headphones / Seattle Public Library.   \n",
       "5137        791  101 Essays That Will Change the Way You Think ...   \n",
       "\n",
       "              isbn        creator  \\\n",
       "1123           NaN            NaN   \n",
       "5137  9.781977e+12  Brianna Wiest   \n",
       "\n",
       "                                              subjects  \\\n",
       "1123                                               NaN   \n",
       "5137  Essays, Philosophy, Self-Improvement, Nonfiction   \n",
       "\n",
       "                   publisher publicationyear  \n",
       "1123  Seattle Public Library             NaN  \n",
       "5137       Tantor Media, Inc            2021  "
      ]
     },
     "execution_count": 266,
     "metadata": {},
     "output_type": "execute_result"
    }
   ],
   "source": [
    "max_df_combined = pd.concat([max_phys_row, max_dig_row])\n",
    "max_df_combined"
   ]
  },
  {
   "cell_type": "markdown",
   "id": "b09f4367-4f69-4214-9147-c620a53ff22e",
   "metadata": {},
   "source": [
    "### Die zehn meistausgeliehenen physischen Objekte"
   ]
  },
  {
   "cell_type": "code",
   "execution_count": 267,
   "id": "91f10954-cb3d-4fac-aae9-ed008d6e6b3c",
   "metadata": {},
   "outputs": [],
   "source": [
    "ranking_checkouts_phys_series = df_physical[\"checkouts\"].nlargest(10)"
   ]
  },
  {
   "cell_type": "code",
   "execution_count": 269,
   "id": "7fb9e13a-058e-4679-a892-303b35d400e4",
   "metadata": {},
   "outputs": [
    {
     "data": {
      "text/plain": [
       "pandas.core.series.Series"
      ]
     },
     "execution_count": 269,
     "metadata": {},
     "output_type": "execute_result"
    }
   ],
   "source": [
    "type(ranking_checkouts_phys_series)"
   ]
  },
  {
   "cell_type": "code",
   "execution_count": 270,
   "id": "fecc7e35-5e7f-4e0f-82d8-74476c89beb7",
   "metadata": {},
   "outputs": [
    {
     "name": "stdout",
     "output_type": "stream",
     "text": [
      "1123    2115\n",
      "4770     841\n",
      "8074     485\n",
      "2481     432\n",
      "5942     426\n",
      "4870     416\n",
      "9268     416\n",
      "9699     381\n",
      "301      377\n",
      "1176     373\n",
      "Name: checkouts, dtype: int64\n"
     ]
    }
   ],
   "source": [
    "print(ranking_checkouts_phys_series)"
   ]
  },
  {
   "cell_type": "code",
   "execution_count": 271,
   "id": "579b2cb1-fae4-47a0-8410-48ef2e1cc4e7",
   "metadata": {},
   "outputs": [],
   "source": [
    "df_subset_most_checkouts_phys = df_physical.nlargest(10,\"checkouts\")\n",
    "df_subset_most_checkouts_dig = df_digital.nlargest(10,\"checkouts\")"
   ]
  },
  {
   "cell_type": "code",
   "execution_count": 272,
   "id": "3ef7aff4-cade-4a88-b5e6-605f620a86f9",
   "metadata": {},
   "outputs": [
    {
     "data": {
      "text/plain": [
       "pandas.core.frame.DataFrame"
      ]
     },
     "execution_count": 272,
     "metadata": {},
     "output_type": "execute_result"
    }
   ],
   "source": [
    "type(df_subset_most_checkouts_dig)"
   ]
  },
  {
   "cell_type": "markdown",
   "id": "11710bdf-20eb-45f9-9dc8-acee0f1ecb11",
   "metadata": {},
   "source": [
    "### Die zehn meistgeliehenen physischen Objekte im Januar 2023 mit Art des Objekts, Titel, Urheber und Anzahl der Ausleihen"
   ]
  },
  {
   "cell_type": "code",
   "execution_count": 127,
   "id": "e2e85555-a21c-4edf-a7a1-52fd489032af",
   "metadata": {},
   "outputs": [
    {
     "data": {
      "text/html": [
       "<div>\n",
       "<style scoped>\n",
       "    .dataframe tbody tr th:only-of-type {\n",
       "        vertical-align: middle;\n",
       "    }\n",
       "\n",
       "    .dataframe tbody tr th {\n",
       "        vertical-align: top;\n",
       "    }\n",
       "\n",
       "    .dataframe thead th {\n",
       "        text-align: right;\n",
       "    }\n",
       "</style>\n",
       "<table border=\"1\" class=\"dataframe\">\n",
       "  <thead>\n",
       "    <tr style=\"text-align: right;\">\n",
       "      <th></th>\n",
       "      <th>materialtype</th>\n",
       "      <th>title</th>\n",
       "      <th>creator</th>\n",
       "      <th>checkouts</th>\n",
       "    </tr>\n",
       "  </thead>\n",
       "  <tbody>\n",
       "    <tr>\n",
       "      <th>1123</th>\n",
       "      <td>MIXED</td>\n",
       "      <td>Headphones / Seattle Public Library.</td>\n",
       "      <td>NaN</td>\n",
       "      <td>2115</td>\n",
       "    </tr>\n",
       "    <tr>\n",
       "      <th>4770</th>\n",
       "      <td>MIXED</td>\n",
       "      <td>SPL HotSpot : connecting Seattle / [distribute...</td>\n",
       "      <td>NaN</td>\n",
       "      <td>841</td>\n",
       "    </tr>\n",
       "    <tr>\n",
       "      <th>8074</th>\n",
       "      <td>BOOK</td>\n",
       "      <td>Spare / Prince Harry.</td>\n",
       "      <td>Harry, Prince, Duke of Sussex, 1984-</td>\n",
       "      <td>485</td>\n",
       "    </tr>\n",
       "    <tr>\n",
       "      <th>2481</th>\n",
       "      <td>BOOK</td>\n",
       "      <td>Lessons in chemistry / Bonnie Garmus.</td>\n",
       "      <td>Garmus, Bonnie</td>\n",
       "      <td>432</td>\n",
       "    </tr>\n",
       "    <tr>\n",
       "      <th>5942</th>\n",
       "      <td>BOOK</td>\n",
       "      <td>Our missing hearts : a novel / Celeste Ng.</td>\n",
       "      <td>Ng, Celeste</td>\n",
       "      <td>426</td>\n",
       "    </tr>\n",
       "    <tr>\n",
       "      <th>4870</th>\n",
       "      <td>BOOK</td>\n",
       "      <td>I'm glad my mom died / Jennette McCurdy.</td>\n",
       "      <td>McCurdy, Jennette, 1992-</td>\n",
       "      <td>416</td>\n",
       "    </tr>\n",
       "    <tr>\n",
       "      <th>9268</th>\n",
       "      <td>BOOK</td>\n",
       "      <td>The light we carry : overcoming in uncertain t...</td>\n",
       "      <td>Obama, Michelle, 1964-</td>\n",
       "      <td>416</td>\n",
       "    </tr>\n",
       "    <tr>\n",
       "      <th>9699</th>\n",
       "      <td>BOOK</td>\n",
       "      <td>Dinner in one : exceptional &amp; easy one-pan mea...</td>\n",
       "      <td>Clark, Melissa</td>\n",
       "      <td>381</td>\n",
       "    </tr>\n",
       "    <tr>\n",
       "      <th>301</th>\n",
       "      <td>BOOK</td>\n",
       "      <td>Foster / Claire Keegan.</td>\n",
       "      <td>Keegan, Claire</td>\n",
       "      <td>377</td>\n",
       "    </tr>\n",
       "    <tr>\n",
       "      <th>1176</th>\n",
       "      <td>BOOK</td>\n",
       "      <td>The passenger / Cormac McCarthy.</td>\n",
       "      <td>McCarthy, Cormac, 1933-</td>\n",
       "      <td>373</td>\n",
       "    </tr>\n",
       "  </tbody>\n",
       "</table>\n",
       "</div>"
      ],
      "text/plain": [
       "     materialtype                                              title  \\\n",
       "1123        MIXED               Headphones / Seattle Public Library.   \n",
       "4770        MIXED  SPL HotSpot : connecting Seattle / [distribute...   \n",
       "8074         BOOK                              Spare / Prince Harry.   \n",
       "2481         BOOK              Lessons in chemistry / Bonnie Garmus.   \n",
       "5942         BOOK         Our missing hearts : a novel / Celeste Ng.   \n",
       "4870         BOOK           I'm glad my mom died / Jennette McCurdy.   \n",
       "9268         BOOK  The light we carry : overcoming in uncertain t...   \n",
       "9699         BOOK  Dinner in one : exceptional & easy one-pan mea...   \n",
       "301          BOOK                            Foster / Claire Keegan.   \n",
       "1176         BOOK                   The passenger / Cormac McCarthy.   \n",
       "\n",
       "                                   creator  checkouts  \n",
       "1123                                   NaN       2115  \n",
       "4770                                   NaN        841  \n",
       "8074  Harry, Prince, Duke of Sussex, 1984-        485  \n",
       "2481                        Garmus, Bonnie        432  \n",
       "5942                           Ng, Celeste        426  \n",
       "4870              McCurdy, Jennette, 1992-        416  \n",
       "9268                Obama, Michelle, 1964-        416  \n",
       "9699                        Clark, Melissa        381  \n",
       "301                         Keegan, Claire        377  \n",
       "1176               McCarthy, Cormac, 1933-        373  "
      ]
     },
     "execution_count": 127,
     "metadata": {},
     "output_type": "execute_result"
    }
   ],
   "source": [
    "df_subset_most_checkouts_phys[[\"materialtype\", \"title\", \"creator\", \"checkouts\"]]"
   ]
  },
  {
   "cell_type": "markdown",
   "id": "90051bbf-037c-4b39-ae60-0d9745e6f819",
   "metadata": {},
   "source": [
    "### Die zehn meistgeliehenen digitalen Objekte im Januar 2023 mit Art des Objekts, Titel, Urheber und Anzahl der Ausleihen"
   ]
  },
  {
   "cell_type": "code",
   "execution_count": 128,
   "id": "0da2448c-e27c-4557-9b5c-182054c1cc3c",
   "metadata": {},
   "outputs": [
    {
     "data": {
      "text/html": [
       "<div>\n",
       "<style scoped>\n",
       "    .dataframe tbody tr th:only-of-type {\n",
       "        vertical-align: middle;\n",
       "    }\n",
       "\n",
       "    .dataframe tbody tr th {\n",
       "        vertical-align: top;\n",
       "    }\n",
       "\n",
       "    .dataframe thead th {\n",
       "        text-align: right;\n",
       "    }\n",
       "</style>\n",
       "<table border=\"1\" class=\"dataframe\">\n",
       "  <thead>\n",
       "    <tr style=\"text-align: right;\">\n",
       "      <th></th>\n",
       "      <th>materialtype</th>\n",
       "      <th>title</th>\n",
       "      <th>creator</th>\n",
       "      <th>checkouts</th>\n",
       "    </tr>\n",
       "  </thead>\n",
       "  <tbody>\n",
       "    <tr>\n",
       "      <th>5137</th>\n",
       "      <td>AUDIOBOOK</td>\n",
       "      <td>101 Essays That Will Change the Way You Think ...</td>\n",
       "      <td>Brianna Wiest</td>\n",
       "      <td>791</td>\n",
       "    </tr>\n",
       "    <tr>\n",
       "      <th>441</th>\n",
       "      <td>AUDIOBOOK</td>\n",
       "      <td>Braiding Sweetgrass: Indigenous Wisdom, Scient...</td>\n",
       "      <td>Robin Wall Kimmerer</td>\n",
       "      <td>729</td>\n",
       "    </tr>\n",
       "    <tr>\n",
       "      <th>1426</th>\n",
       "      <td>EBOOK</td>\n",
       "      <td>Lessons in Chemistry: A Novel</td>\n",
       "      <td>Bonnie Garmus</td>\n",
       "      <td>681</td>\n",
       "    </tr>\n",
       "    <tr>\n",
       "      <th>660</th>\n",
       "      <td>EBOOK</td>\n",
       "      <td>Tomorrow, and Tomorrow, and Tomorrow: A novel</td>\n",
       "      <td>Gabrielle Zevin</td>\n",
       "      <td>667</td>\n",
       "    </tr>\n",
       "    <tr>\n",
       "      <th>5570</th>\n",
       "      <td>AUDIOBOOK</td>\n",
       "      <td>I'm Glad My Mom Died (unabridged)</td>\n",
       "      <td>Jennette McCurdy</td>\n",
       "      <td>564</td>\n",
       "    </tr>\n",
       "    <tr>\n",
       "      <th>3172</th>\n",
       "      <td>AUDIOBOOK</td>\n",
       "      <td>Spare (unabridged)</td>\n",
       "      <td>Prince Harry, The Duke of Sussex</td>\n",
       "      <td>533</td>\n",
       "    </tr>\n",
       "    <tr>\n",
       "      <th>8709</th>\n",
       "      <td>AUDIOBOOK</td>\n",
       "      <td>A Court of Thorns and Roses: A Court of Thorns...</td>\n",
       "      <td>Sarah J. Maas</td>\n",
       "      <td>515</td>\n",
       "    </tr>\n",
       "    <tr>\n",
       "      <th>4457</th>\n",
       "      <td>EBOOK</td>\n",
       "      <td>Cloud Cuckoo Land: A Novel</td>\n",
       "      <td>Anthony Doerr</td>\n",
       "      <td>478</td>\n",
       "    </tr>\n",
       "    <tr>\n",
       "      <th>8171</th>\n",
       "      <td>AUDIOBOOK</td>\n",
       "      <td>Tomorrow, and Tomorrow, and Tomorrow: A novel ...</td>\n",
       "      <td>Gabrielle Zevin</td>\n",
       "      <td>466</td>\n",
       "    </tr>\n",
       "    <tr>\n",
       "      <th>6541</th>\n",
       "      <td>EBOOK</td>\n",
       "      <td>The Last Thing He Told Me: A Novel</td>\n",
       "      <td>Laura Dave</td>\n",
       "      <td>440</td>\n",
       "    </tr>\n",
       "  </tbody>\n",
       "</table>\n",
       "</div>"
      ],
      "text/plain": [
       "     materialtype                                              title  \\\n",
       "5137    AUDIOBOOK  101 Essays That Will Change the Way You Think ...   \n",
       "441     AUDIOBOOK  Braiding Sweetgrass: Indigenous Wisdom, Scient...   \n",
       "1426        EBOOK                      Lessons in Chemistry: A Novel   \n",
       "660         EBOOK      Tomorrow, and Tomorrow, and Tomorrow: A novel   \n",
       "5570    AUDIOBOOK                  I'm Glad My Mom Died (unabridged)   \n",
       "3172    AUDIOBOOK                                 Spare (unabridged)   \n",
       "8709    AUDIOBOOK  A Court of Thorns and Roses: A Court of Thorns...   \n",
       "4457        EBOOK                         Cloud Cuckoo Land: A Novel   \n",
       "8171    AUDIOBOOK  Tomorrow, and Tomorrow, and Tomorrow: A novel ...   \n",
       "6541        EBOOK                 The Last Thing He Told Me: A Novel   \n",
       "\n",
       "                               creator  checkouts  \n",
       "5137                     Brianna Wiest        791  \n",
       "441                Robin Wall Kimmerer        729  \n",
       "1426                     Bonnie Garmus        681  \n",
       "660                    Gabrielle Zevin        667  \n",
       "5570                  Jennette McCurdy        564  \n",
       "3172  Prince Harry, The Duke of Sussex        533  \n",
       "8709                     Sarah J. Maas        515  \n",
       "4457                     Anthony Doerr        478  \n",
       "8171                   Gabrielle Zevin        466  \n",
       "6541                        Laura Dave        440  "
      ]
     },
     "execution_count": 128,
     "metadata": {},
     "output_type": "execute_result"
    }
   ],
   "source": [
    "df_subset_most_checkouts_dig[[\"materialtype\", \"title\", \"creator\", \"checkouts\"]]"
   ]
  },
  {
   "cell_type": "markdown",
   "id": "99476035-f881-4ca3-8cab-f8411589673d",
   "metadata": {},
   "source": [
    "## (2) Wie viele Comics mit Erscheinungsjahr 2005 finden sich in der Collection? "
   ]
  },
  {
   "cell_type": "markdown",
   "id": "4ca78d5e-e808-4f00-97a1-990e41400218",
   "metadata": {},
   "source": [
    "### ILS Data Dictionary laden"
   ]
  },
  {
   "cell_type": "code",
   "execution_count": 131,
   "id": "a74b27f3-b598-4e92-b99c-eb5c13c9de70",
   "metadata": {},
   "outputs": [
    {
     "data": {
      "text/plain": [
       "('seattle_dd.json', <http.client.HTTPMessage at 0x798400529ca0>)"
      ]
     },
     "execution_count": 131,
     "metadata": {},
     "output_type": "execute_result"
    }
   ],
   "source": [
    "url = \"https://data.seattle.gov/resource/pbt3-ytbc.json\"\n",
    "local_file = \"seattle_dd.json\"\n",
    "urllib.request.urlretrieve(url, local_file)"
   ]
  },
  {
   "cell_type": "code",
   "execution_count": 136,
   "id": "df26d2e4-a5f1-4e2d-961e-2965e109304f",
   "metadata": {},
   "outputs": [
    {
     "data": {
      "text/html": [
       "<div>\n",
       "<style scoped>\n",
       "    .dataframe tbody tr th:only-of-type {\n",
       "        vertical-align: middle;\n",
       "    }\n",
       "\n",
       "    .dataframe tbody tr th {\n",
       "        vertical-align: top;\n",
       "    }\n",
       "\n",
       "    .dataframe thead th {\n",
       "        text-align: right;\n",
       "    }\n",
       "</style>\n",
       "<table border=\"1\" class=\"dataframe\">\n",
       "  <thead>\n",
       "    <tr style=\"text-align: right;\">\n",
       "      <th></th>\n",
       "      <th>code</th>\n",
       "      <th>description</th>\n",
       "      <th>code_type</th>\n",
       "      <th>format_group</th>\n",
       "      <th>format_subgroup</th>\n",
       "      <th>category_group</th>\n",
       "      <th>age_group</th>\n",
       "      <th>category_subgroup</th>\n",
       "    </tr>\n",
       "  </thead>\n",
       "  <tbody>\n",
       "    <tr>\n",
       "      <th>0</th>\n",
       "      <td>cazover</td>\n",
       "      <td>CA7-zine collection oversize</td>\n",
       "      <td>ItemCollection</td>\n",
       "      <td>Print</td>\n",
       "      <td>Book</td>\n",
       "      <td>Periodical</td>\n",
       "      <td>Adult</td>\n",
       "      <td>NaN</td>\n",
       "    </tr>\n",
       "    <tr>\n",
       "      <th>1</th>\n",
       "      <td>caziner</td>\n",
       "      <td>CA7-zine collection reference</td>\n",
       "      <td>ItemCollection</td>\n",
       "      <td>Print</td>\n",
       "      <td>Book</td>\n",
       "      <td>Periodical</td>\n",
       "      <td>Adult</td>\n",
       "      <td>NaN</td>\n",
       "    </tr>\n",
       "    <tr>\n",
       "      <th>2</th>\n",
       "      <td>cazval</td>\n",
       "      <td>CA7-zine collection valuable mat.</td>\n",
       "      <td>ItemCollection</td>\n",
       "      <td>Print</td>\n",
       "      <td>Book</td>\n",
       "      <td>Periodical</td>\n",
       "      <td>Adult</td>\n",
       "      <td>NaN</td>\n",
       "    </tr>\n",
       "    <tr>\n",
       "      <th>3</th>\n",
       "      <td>napass</td>\n",
       "      <td>NA-Discovery Pass</td>\n",
       "      <td>ItemCollection</td>\n",
       "      <td>Media</td>\n",
       "      <td>Pass</td>\n",
       "      <td>Miscellaneous</td>\n",
       "      <td>Adult</td>\n",
       "      <td>NaN</td>\n",
       "    </tr>\n",
       "    <tr>\n",
       "      <th>4</th>\n",
       "      <td>ccbocd</td>\n",
       "      <td>CC - Children's Books on CD</td>\n",
       "      <td>ItemCollection</td>\n",
       "      <td>Media</td>\n",
       "      <td>Audiobook Disc</td>\n",
       "      <td>Fiction</td>\n",
       "      <td>Juvenile</td>\n",
       "      <td>NaN</td>\n",
       "    </tr>\n",
       "    <tr>\n",
       "      <th>...</th>\n",
       "      <td>...</td>\n",
       "      <td>...</td>\n",
       "      <td>...</td>\n",
       "      <td>...</td>\n",
       "      <td>...</td>\n",
       "      <td>...</td>\n",
       "      <td>...</td>\n",
       "      <td>...</td>\n",
       "    </tr>\n",
       "    <tr>\n",
       "      <th>620</th>\n",
       "      <td>acblu</td>\n",
       "      <td>Blu-ray: Adult/YA</td>\n",
       "      <td>ItemType</td>\n",
       "      <td>Media</td>\n",
       "      <td>Video Disc</td>\n",
       "      <td>NaN</td>\n",
       "      <td>Adult</td>\n",
       "      <td>NaN</td>\n",
       "    </tr>\n",
       "    <tr>\n",
       "      <th>621</th>\n",
       "      <td>ncblu</td>\n",
       "      <td>NC-Children's Blu-rays</td>\n",
       "      <td>ItemCollection</td>\n",
       "      <td>Media</td>\n",
       "      <td>Video Disc</td>\n",
       "      <td>Fiction</td>\n",
       "      <td>Juvenile</td>\n",
       "      <td>NaN</td>\n",
       "    </tr>\n",
       "    <tr>\n",
       "      <th>622</th>\n",
       "      <td>cazinec</td>\n",
       "      <td>ZAPP zine collection circulating</td>\n",
       "      <td>ItemCollection</td>\n",
       "      <td>Print</td>\n",
       "      <td>Book</td>\n",
       "      <td>Miscellaneous</td>\n",
       "      <td>Adult</td>\n",
       "      <td>NaN</td>\n",
       "    </tr>\n",
       "    <tr>\n",
       "      <th>623</th>\n",
       "      <td>cavalf</td>\n",
       "      <td>CA0-Valuable Material Folio</td>\n",
       "      <td>ItemCollection</td>\n",
       "      <td>NaN</td>\n",
       "      <td>NaN</td>\n",
       "      <td>NaN</td>\n",
       "      <td>NaN</td>\n",
       "      <td>NaN</td>\n",
       "    </tr>\n",
       "    <tr>\n",
       "      <th>624</th>\n",
       "      <td>lock7</td>\n",
       "      <td>Ballard Branch: SPL Lockers</td>\n",
       "      <td>Location</td>\n",
       "      <td>NaN</td>\n",
       "      <td>NaN</td>\n",
       "      <td>NaN</td>\n",
       "      <td>NaN</td>\n",
       "      <td>NaN</td>\n",
       "    </tr>\n",
       "  </tbody>\n",
       "</table>\n",
       "<p>625 rows × 8 columns</p>\n",
       "</div>"
      ],
      "text/plain": [
       "        code                        description       code_type format_group  \\\n",
       "0    cazover       CA7-zine collection oversize  ItemCollection        Print   \n",
       "1    caziner      CA7-zine collection reference  ItemCollection        Print   \n",
       "2     cazval  CA7-zine collection valuable mat.  ItemCollection        Print   \n",
       "3     napass                  NA-Discovery Pass  ItemCollection        Media   \n",
       "4     ccbocd        CC - Children's Books on CD  ItemCollection        Media   \n",
       "..       ...                                ...             ...          ...   \n",
       "620    acblu                  Blu-ray: Adult/YA        ItemType        Media   \n",
       "621    ncblu             NC-Children's Blu-rays  ItemCollection        Media   \n",
       "622  cazinec   ZAPP zine collection circulating  ItemCollection        Print   \n",
       "623   cavalf        CA0-Valuable Material Folio  ItemCollection          NaN   \n",
       "624    lock7        Ballard Branch: SPL Lockers        Location          NaN   \n",
       "\n",
       "    format_subgroup category_group age_group category_subgroup  \n",
       "0              Book     Periodical     Adult               NaN  \n",
       "1              Book     Periodical     Adult               NaN  \n",
       "2              Book     Periodical     Adult               NaN  \n",
       "3              Pass  Miscellaneous     Adult               NaN  \n",
       "4    Audiobook Disc        Fiction  Juvenile               NaN  \n",
       "..              ...            ...       ...               ...  \n",
       "620      Video Disc            NaN     Adult               NaN  \n",
       "621      Video Disc        Fiction  Juvenile               NaN  \n",
       "622            Book  Miscellaneous     Adult               NaN  \n",
       "623             NaN            NaN       NaN               NaN  \n",
       "624             NaN            NaN       NaN               NaN  \n",
       "\n",
       "[625 rows x 8 columns]"
      ]
     },
     "execution_count": 136,
     "metadata": {},
     "output_type": "execute_result"
    }
   ],
   "source": [
    "df_data_dict = pd.read_json(\"seattle_dd.json\")\n",
    "df_data_dict"
   ]
  },
  {
   "cell_type": "markdown",
   "id": "3dc42cfe-7f5f-49e1-84f2-c6682d71b04e",
   "metadata": {},
   "source": [
    "### Tabelle für Codes von Interlibrary Loans"
   ]
  },
  {
   "cell_type": "code",
   "execution_count": 155,
   "id": "bc745e7b-53a8-4b2b-884a-d454633c3340",
   "metadata": {},
   "outputs": [
    {
     "data": {
      "text/plain": [
       "('seattle_il.json', <http.client.HTTPMessage at 0x7983fe948350>)"
      ]
     },
     "execution_count": 155,
     "metadata": {},
     "output_type": "execute_result"
    }
   ],
   "source": [
    "url = \"https://data.seattle.gov/resource/pbt3-ytbc.json?category_group='Interlibrary%20Loan'\"\n",
    "local_file = \"seattle_il.json\"\n",
    "urllib.request.urlretrieve(url, local_file)"
   ]
  },
  {
   "cell_type": "code",
   "execution_count": 156,
   "id": "039e1278-82a5-469e-a60d-c0461bd21b30",
   "metadata": {},
   "outputs": [
    {
     "data": {
      "text/plain": [
       "array(['Periodical', 'Miscellaneous', 'Fiction', 'Nonfiction',\n",
       "       'Reference', nan, 'Interlibrary Loan', 'Temporary', 'Analytic',\n",
       "       'WTBBL', 'Uncataloged', 'Language', 'On Order'], dtype=object)"
      ]
     },
     "execution_count": 156,
     "metadata": {},
     "output_type": "execute_result"
    }
   ],
   "source": [
    "df_data_dict[\"category_group\"].unique()"
   ]
  },
  {
   "cell_type": "code",
   "execution_count": 164,
   "id": "98011957-c910-4787-9334-2853081b0974",
   "metadata": {},
   "outputs": [
    {
     "data": {
      "text/html": [
       "<div>\n",
       "<style scoped>\n",
       "    .dataframe tbody tr th:only-of-type {\n",
       "        vertical-align: middle;\n",
       "    }\n",
       "\n",
       "    .dataframe tbody tr th {\n",
       "        vertical-align: top;\n",
       "    }\n",
       "\n",
       "    .dataframe thead th {\n",
       "        text-align: right;\n",
       "    }\n",
       "</style>\n",
       "<table border=\"1\" class=\"dataframe\">\n",
       "  <thead>\n",
       "    <tr style=\"text-align: right;\">\n",
       "      <th></th>\n",
       "      <th>code</th>\n",
       "      <th>description</th>\n",
       "      <th>code_type</th>\n",
       "      <th>category_group</th>\n",
       "      <th>format_group</th>\n",
       "      <th>age_group</th>\n",
       "    </tr>\n",
       "  </thead>\n",
       "  <tbody>\n",
       "    <tr>\n",
       "      <th>0</th>\n",
       "      <td>ill</td>\n",
       "      <td>Interlibrary Loan</td>\n",
       "      <td>Location</td>\n",
       "      <td>Interlibrary Loan</td>\n",
       "      <td>NaN</td>\n",
       "      <td>NaN</td>\n",
       "    </tr>\n",
       "    <tr>\n",
       "      <th>1</th>\n",
       "      <td>swill</td>\n",
       "      <td>Interlibrary Loan</td>\n",
       "      <td>ItemCollection</td>\n",
       "      <td>Interlibrary Loan</td>\n",
       "      <td>Other</td>\n",
       "      <td>Adult</td>\n",
       "    </tr>\n",
       "    <tr>\n",
       "      <th>2</th>\n",
       "      <td>dcillb</td>\n",
       "      <td>Ill Borrowed</td>\n",
       "      <td>ItemType</td>\n",
       "      <td>Interlibrary Loan</td>\n",
       "      <td>Other</td>\n",
       "      <td>Adult</td>\n",
       "    </tr>\n",
       "    <tr>\n",
       "      <th>3</th>\n",
       "      <td>dcilll</td>\n",
       "      <td>Ill Lending</td>\n",
       "      <td>ItemType</td>\n",
       "      <td>Interlibrary Loan</td>\n",
       "      <td>Other</td>\n",
       "      <td>Adult</td>\n",
       "    </tr>\n",
       "  </tbody>\n",
       "</table>\n",
       "</div>"
      ],
      "text/plain": [
       "     code        description       code_type     category_group format_group  \\\n",
       "0     ill  Interlibrary Loan        Location  Interlibrary Loan          NaN   \n",
       "1   swill  Interlibrary Loan  ItemCollection  Interlibrary Loan        Other   \n",
       "2  dcillb       Ill Borrowed        ItemType  Interlibrary Loan        Other   \n",
       "3  dcilll        Ill Lending        ItemType  Interlibrary Loan        Other   \n",
       "\n",
       "  age_group  \n",
       "0       NaN  \n",
       "1     Adult  \n",
       "2     Adult  \n",
       "3     Adult  "
      ]
     },
     "execution_count": 164,
     "metadata": {},
     "output_type": "execute_result"
    }
   ],
   "source": [
    "df_il = pd.read_json(\"seattle_il.json\")\n",
    "df_il"
   ]
  },
  {
   "cell_type": "markdown",
   "id": "7630c0a3-c9c6-4254-9dd6-6de6e2d0ba09",
   "metadata": {},
   "source": [
    "### Tabelle für Codes der Subgroups"
   ]
  },
  {
   "cell_type": "code",
   "execution_count": 138,
   "id": "4cfd81a2-d7b4-4c6d-8d5f-770c7eff80a5",
   "metadata": {},
   "outputs": [
    {
     "data": {
      "text/plain": [
       "array([nan, 'Biography', 'Peak Picks', 'Comic', 'Large Print', 'Holiday',\n",
       "       'Picture', 'ESL'], dtype=object)"
      ]
     },
     "execution_count": 138,
     "metadata": {},
     "output_type": "execute_result"
    }
   ],
   "source": [
    "df_data_dict[\"category_subgroup\"].unique()"
   ]
  },
  {
   "cell_type": "code",
   "execution_count": 160,
   "id": "7bd9be69-de9d-4ae6-b2b5-d7080d057603",
   "metadata": {},
   "outputs": [
    {
     "data": {
      "text/plain": [
       "('seattle_sub.json', <http.client.HTTPMessage at 0x7983fe84b2c0>)"
      ]
     },
     "execution_count": 160,
     "metadata": {},
     "output_type": "execute_result"
    }
   ],
   "source": [
    "url = \"https://data.seattle.gov/resource/pbt3-ytbc.json?$where=category_subgroup%20IS%20NOT%20NULL\"\n",
    "local_file = \"seattle_sub.json\"\n",
    "urllib.request.urlretrieve(url, local_file)"
   ]
  },
  {
   "cell_type": "code",
   "execution_count": 235,
   "id": "49c2bfa5-f129-4f0b-98b7-17100b1bfdc2",
   "metadata": {},
   "outputs": [],
   "source": [
    "df_sub = pd.read_json(\"seattle_sub.json\")\n",
    "df_comics = df_sub[df_sub[\"category_subgroup\"] == \"Comic\"]"
   ]
  },
  {
   "cell_type": "code",
   "execution_count": 236,
   "id": "24c33de5-3c90-4414-a01b-ebdbcde50218",
   "metadata": {},
   "outputs": [],
   "source": [
    "comic_codes = df_comics[\"code\"].unique()"
   ]
  },
  {
   "cell_type": "code",
   "execution_count": 237,
   "id": "a56df9f4-f5d3-49d3-97ad-89545164acf6",
   "metadata": {},
   "outputs": [
    {
     "data": {
      "text/plain": [
       "array(['cccomic', 'nacomic', 'cacomic', 'nccomic', 'cycomic', 'nycomic'],\n",
       "      dtype=object)"
      ]
     },
     "execution_count": 237,
     "metadata": {},
     "output_type": "execute_result"
    }
   ],
   "source": [
    "comic_codes"
   ]
  },
  {
   "cell_type": "code",
   "execution_count": 242,
   "id": "8ab1f06c-4b3b-44dc-81ec-6cc779930530",
   "metadata": {},
   "outputs": [
    {
     "name": "stdout",
     "output_type": "stream",
     "text": [
      "cccomic\n",
      "nacomic\n",
      "cacomic\n",
      "nccomic\n",
      "cycomic\n",
      "nycomic\n"
     ]
    }
   ],
   "source": [
    "for x in comic_codes:\n",
    "    print(x)"
   ]
  },
  {
   "cell_type": "code",
   "execution_count": 238,
   "id": "2219e152-b04a-4c0c-8a91-e938b524df6a",
   "metadata": {},
   "outputs": [
    {
     "data": {
      "text/plain": [
       "numpy.ndarray"
      ]
     },
     "execution_count": 238,
     "metadata": {},
     "output_type": "execute_result"
    }
   ],
   "source": [
    "type(comic_codes)"
   ]
  },
  {
   "cell_type": "markdown",
   "id": "f7e68fa2-d4ed-47d0-95cd-372e17689718",
   "metadata": {},
   "source": [
    "### Load Library Collection Inventory"
   ]
  },
  {
   "cell_type": "code",
   "execution_count": 304,
   "id": "695cbcc1-4568-4857-9805-de35ac4428f8",
   "metadata": {},
   "outputs": [
    {
     "data": {
      "text/plain": [
       "('seattle-lci.json', <http.client.HTTPMessage at 0x7983fb14db20>)"
      ]
     },
     "execution_count": 304,
     "metadata": {},
     "output_type": "execute_result"
    }
   ],
   "source": [
    "url = \"https://data.seattle.gov/resource/6vkj-f5xf.json?$limit=10000\"\n",
    "local_file = \"seattle-lci.json\"\n",
    "urllib.request.urlretrieve(url, local_file)\n",
    "#seattle_json_raw = urllib.request.urlopen(url).read()"
   ]
  },
  {
   "cell_type": "code",
   "execution_count": 305,
   "id": "479c5543-6792-449e-ab1b-70a2e657d37f",
   "metadata": {},
   "outputs": [],
   "source": [
    "df_seattle_lci = pd.read_json(local_file)"
   ]
  },
  {
   "cell_type": "code",
   "execution_count": 306,
   "id": "5607772d-4b30-4031-8006-6ad51476195b",
   "metadata": {},
   "outputs": [],
   "source": [
    "lci_table_reduced = df_seattle_lci[[\"bibnum\", \"title\", \"author\", \"itemcollection\"]]"
   ]
  },
  {
   "cell_type": "code",
   "execution_count": 307,
   "id": "a8e3fb69-c908-440f-9c80-2a354d919fc8",
   "metadata": {},
   "outputs": [
    {
     "data": {
      "text/html": [
       "<div>\n",
       "<style scoped>\n",
       "    .dataframe tbody tr th:only-of-type {\n",
       "        vertical-align: middle;\n",
       "    }\n",
       "\n",
       "    .dataframe tbody tr th {\n",
       "        vertical-align: top;\n",
       "    }\n",
       "\n",
       "    .dataframe thead th {\n",
       "        text-align: right;\n",
       "    }\n",
       "</style>\n",
       "<table border=\"1\" class=\"dataframe\">\n",
       "  <thead>\n",
       "    <tr style=\"text-align: right;\">\n",
       "      <th></th>\n",
       "      <th>bibnum</th>\n",
       "      <th>title</th>\n",
       "      <th>author</th>\n",
       "      <th>itemcollection</th>\n",
       "    </tr>\n",
       "  </thead>\n",
       "  <tbody>\n",
       "    <tr>\n",
       "      <th>0</th>\n",
       "      <td>2570004</td>\n",
       "      <td>Climate change : picturing the science / Gavin...</td>\n",
       "      <td>Schmidt, Gavin</td>\n",
       "      <td>nanf</td>\n",
       "    </tr>\n",
       "    <tr>\n",
       "      <th>1</th>\n",
       "      <td>2641788</td>\n",
       "      <td>The big book of Civil War sites : from Fort Su...</td>\n",
       "      <td>NaN</td>\n",
       "      <td>nanf</td>\n",
       "    </tr>\n",
       "    <tr>\n",
       "      <th>2</th>\n",
       "      <td>3117453</td>\n",
       "      <td>The three little pigs fight back / by Annie Au...</td>\n",
       "      <td>Auerbach, Annie</td>\n",
       "      <td>ncpic</td>\n",
       "    </tr>\n",
       "    <tr>\n",
       "      <th>3</th>\n",
       "      <td>3002472</td>\n",
       "      <td>Some velvet morning / Tribeca Film ; Cristile ...</td>\n",
       "      <td>NaN</td>\n",
       "      <td>nadvd</td>\n",
       "    </tr>\n",
       "    <tr>\n",
       "      <th>4</th>\n",
       "      <td>2830564</td>\n",
       "      <td>Shrines / Purity Ring.</td>\n",
       "      <td>Purity Ring (Musical group)</td>\n",
       "      <td>nacd</td>\n",
       "    </tr>\n",
       "    <tr>\n",
       "      <th>...</th>\n",
       "      <td>...</td>\n",
       "      <td>...</td>\n",
       "      <td>...</td>\n",
       "      <td>...</td>\n",
       "    </tr>\n",
       "    <tr>\n",
       "      <th>9995</th>\n",
       "      <td>220001</td>\n",
       "      <td>Pills, pesticides &amp; profits : the internationa...</td>\n",
       "      <td>NaN</td>\n",
       "      <td>cs6</td>\n",
       "    </tr>\n",
       "    <tr>\n",
       "      <th>9996</th>\n",
       "      <td>3117379</td>\n",
       "      <td>Understanding chronic fatigue syndrome : an in...</td>\n",
       "      <td>Ali, Naheed, 1981-</td>\n",
       "      <td>canf</td>\n",
       "    </tr>\n",
       "    <tr>\n",
       "      <th>9997</th>\n",
       "      <td>2936698</td>\n",
       "      <td>Missing sisters / Gregory Maguire.</td>\n",
       "      <td>Maguire, Gregory</td>\n",
       "      <td>ncfic</td>\n",
       "    </tr>\n",
       "    <tr>\n",
       "      <th>9998</th>\n",
       "      <td>3082942</td>\n",
       "      <td>Yes, we can print that! : 25 years at Day Moon...</td>\n",
       "      <td>NaN</td>\n",
       "      <td>casea</td>\n",
       "    </tr>\n",
       "    <tr>\n",
       "      <th>9999</th>\n",
       "      <td>2811098</td>\n",
       "      <td>ABC zoo borns! / Andrew Bleiman, Chris Eastland.</td>\n",
       "      <td>Bleiman, Andrew</td>\n",
       "      <td>ncpic</td>\n",
       "    </tr>\n",
       "  </tbody>\n",
       "</table>\n",
       "<p>10000 rows × 4 columns</p>\n",
       "</div>"
      ],
      "text/plain": [
       "       bibnum                                              title  \\\n",
       "0     2570004  Climate change : picturing the science / Gavin...   \n",
       "1     2641788  The big book of Civil War sites : from Fort Su...   \n",
       "2     3117453  The three little pigs fight back / by Annie Au...   \n",
       "3     3002472  Some velvet morning / Tribeca Film ; Cristile ...   \n",
       "4     2830564                             Shrines / Purity Ring.   \n",
       "...       ...                                                ...   \n",
       "9995   220001  Pills, pesticides & profits : the internationa...   \n",
       "9996  3117379  Understanding chronic fatigue syndrome : an in...   \n",
       "9997  2936698                 Missing sisters / Gregory Maguire.   \n",
       "9998  3082942  Yes, we can print that! : 25 years at Day Moon...   \n",
       "9999  2811098   ABC zoo borns! / Andrew Bleiman, Chris Eastland.   \n",
       "\n",
       "                           author itemcollection  \n",
       "0                  Schmidt, Gavin           nanf  \n",
       "1                             NaN           nanf  \n",
       "2                 Auerbach, Annie          ncpic  \n",
       "3                             NaN          nadvd  \n",
       "4     Purity Ring (Musical group)           nacd  \n",
       "...                           ...            ...  \n",
       "9995                          NaN            cs6  \n",
       "9996           Ali, Naheed, 1981-           canf  \n",
       "9997             Maguire, Gregory          ncfic  \n",
       "9998                          NaN          casea  \n",
       "9999              Bleiman, Andrew          ncpic  \n",
       "\n",
       "[10000 rows x 4 columns]"
      ]
     },
     "execution_count": 307,
     "metadata": {},
     "output_type": "execute_result"
    }
   ],
   "source": [
    "lci_table_reduced"
   ]
  },
  {
   "cell_type": "code",
   "execution_count": 309,
   "id": "b3424897-5ce6-4e50-a24e-d688ff3b2a88",
   "metadata": {},
   "outputs": [
    {
     "ename": "NameError",
     "evalue": "name 'itemcollection' is not defined",
     "output_type": "error",
     "traceback": [
      "\u001b[0;31m---------------------------------------------------------------------------\u001b[0m",
      "\u001b[0;31mNameError\u001b[0m                                 Traceback (most recent call last)",
      "Cell \u001b[0;32mIn[309], line 1\u001b[0m\n\u001b[0;32m----> 1\u001b[0m lci_tables_combined \u001b[38;5;241m=\u001b[39m pd\u001b[38;5;241m.\u001b[39mmerge(lci_table_reduced, df_data_dict, how\u001b[38;5;241m=\u001b[39m\u001b[38;5;124m\"\u001b[39m\u001b[38;5;124mleft\u001b[39m\u001b[38;5;124m\"\u001b[39m, on\u001b[38;5;241m=\u001b[39mitemcollection)\n",
      "\u001b[0;31mNameError\u001b[0m: name 'itemcollection' is not defined"
     ]
    }
   ],
   "source": [
    "lci_tables_combined = pd.merge(lci_table_reduced, df_data_dict, how=\"left\", on=\"temcollection)"
   ]
  },
  {
   "cell_type": "code",
   "execution_count": null,
   "id": "884fe6f8-eeb9-48ce-9cf8-ea2aca590bb3",
   "metadata": {},
   "outputs": [],
   "source": []
  },
  {
   "cell_type": "code",
   "execution_count": null,
   "id": "a9fd6f9a-ebae-4cc1-b63d-7f18a10484e4",
   "metadata": {},
   "outputs": [],
   "source": []
  },
  {
   "cell_type": "markdown",
   "id": "4a6d8e01-3edd-460a-ae86-7059873aefd1",
   "metadata": {},
   "source": [
    "## ISBN"
   ]
  },
  {
   "cell_type": "markdown",
   "id": "0e4853ac-6091-4778-8a98-ea3200a84ac9",
   "metadata": {},
   "source": [
    "### Daten runterladen"
   ]
  },
  {
   "cell_type": "code",
   "execution_count": 19,
   "id": "99d35dfe-030f-4dd8-80c3-d91f3d9b9e33",
   "metadata": {},
   "outputs": [
    {
     "data": {
      "text/plain": [
       "('checkout.csv', <http.client.HTTPMessage at 0x798406dbc6e0>)"
      ]
     },
     "execution_count": 19,
     "metadata": {},
     "output_type": "execute_result"
    }
   ],
   "source": [
    "url = \"https://data.seattle.gov/resource/tmmm-ytt6.csv?$where=(starts_with(isbn,%20'978')%20OR%20starts_with(isbn,'979'))%20AND%20checkoutyear=2023&$limit=10000\"\n",
    "local_file = \"checkout.csv\"\n",
    "urllib.request.urlretrieve(url, local_file)"
   ]
  },
  {
   "cell_type": "code",
   "execution_count": 20,
   "id": "a7a965a0-84d4-4a40-a9ef-a96ef3b8a2d1",
   "metadata": {},
   "outputs": [],
   "source": [
    "df_seattle_isbn = pd.read_csv(local_file)"
   ]
  },
  {
   "cell_type": "code",
   "execution_count": 21,
   "id": "301164c2-f304-4348-95f8-7dc243bbed7b",
   "metadata": {},
   "outputs": [
    {
     "data": {
      "text/html": [
       "<div>\n",
       "<style scoped>\n",
       "    .dataframe tbody tr th:only-of-type {\n",
       "        vertical-align: middle;\n",
       "    }\n",
       "\n",
       "    .dataframe tbody tr th {\n",
       "        vertical-align: top;\n",
       "    }\n",
       "\n",
       "    .dataframe thead th {\n",
       "        text-align: right;\n",
       "    }\n",
       "</style>\n",
       "<table border=\"1\" class=\"dataframe\">\n",
       "  <thead>\n",
       "    <tr style=\"text-align: right;\">\n",
       "      <th></th>\n",
       "      <th>usageclass</th>\n",
       "      <th>checkouttype</th>\n",
       "      <th>materialtype</th>\n",
       "      <th>checkoutyear</th>\n",
       "      <th>checkoutmonth</th>\n",
       "      <th>checkouts</th>\n",
       "      <th>title</th>\n",
       "      <th>isbn</th>\n",
       "      <th>creator</th>\n",
       "      <th>subjects</th>\n",
       "      <th>publisher</th>\n",
       "      <th>publicationyear</th>\n",
       "    </tr>\n",
       "  </thead>\n",
       "  <tbody>\n",
       "    <tr>\n",
       "      <th>0</th>\n",
       "      <td>Digital</td>\n",
       "      <td>OverDrive</td>\n",
       "      <td>EBOOK</td>\n",
       "      <td>2023</td>\n",
       "      <td>3</td>\n",
       "      <td>10</td>\n",
       "      <td>Self-Portrait with Nothing</td>\n",
       "      <td>9781250820853</td>\n",
       "      <td>Aimee Pokwatka</td>\n",
       "      <td>Fiction, Literature, Mystery, Science Fiction</td>\n",
       "      <td>Macmillan Publishers</td>\n",
       "      <td>2022</td>\n",
       "    </tr>\n",
       "    <tr>\n",
       "      <th>1</th>\n",
       "      <td>Digital</td>\n",
       "      <td>OverDrive</td>\n",
       "      <td>EBOOK</td>\n",
       "      <td>2023</td>\n",
       "      <td>3</td>\n",
       "      <td>6</td>\n",
       "      <td>The Fervor</td>\n",
       "      <td>9780593328347</td>\n",
       "      <td>Alma Katsu</td>\n",
       "      <td>Fiction, Horror, Thriller, Historical Fiction</td>\n",
       "      <td>Penguin Group (USA), Inc.</td>\n",
       "      <td>2022</td>\n",
       "    </tr>\n",
       "    <tr>\n",
       "      <th>2</th>\n",
       "      <td>Digital</td>\n",
       "      <td>OverDrive</td>\n",
       "      <td>EBOOK</td>\n",
       "      <td>2023</td>\n",
       "      <td>3</td>\n",
       "      <td>1</td>\n",
       "      <td>Heidi Heckelbeck and the Christmas Surprise</td>\n",
       "      <td>9781442481268</td>\n",
       "      <td>Wanda Coven</td>\n",
       "      <td>Juvenile Fiction</td>\n",
       "      <td>Simon &amp; Schuster, Inc.</td>\n",
       "      <td>2014</td>\n",
       "    </tr>\n",
       "    <tr>\n",
       "      <th>3</th>\n",
       "      <td>Digital</td>\n",
       "      <td>OverDrive</td>\n",
       "      <td>EBOOK</td>\n",
       "      <td>2023</td>\n",
       "      <td>3</td>\n",
       "      <td>2</td>\n",
       "      <td>Selected Short Fiction</td>\n",
       "      <td>9780786512362</td>\n",
       "      <td>Charles Dickens</td>\n",
       "      <td>Classic Literature, Fiction, Short Stories</td>\n",
       "      <td>Penguin Group (USA), Inc.</td>\n",
       "      <td>2011</td>\n",
       "    </tr>\n",
       "    <tr>\n",
       "      <th>4</th>\n",
       "      <td>Digital</td>\n",
       "      <td>OverDrive</td>\n",
       "      <td>EBOOK</td>\n",
       "      <td>2023</td>\n",
       "      <td>3</td>\n",
       "      <td>3</td>\n",
       "      <td>Bellweather Rhapsody</td>\n",
       "      <td>9780544133471</td>\n",
       "      <td>Kate Racculia</td>\n",
       "      <td>Fiction, Literature, Mystery</td>\n",
       "      <td>HarperCollins Publishers Inc.</td>\n",
       "      <td>2014</td>\n",
       "    </tr>\n",
       "    <tr>\n",
       "      <th>...</th>\n",
       "      <td>...</td>\n",
       "      <td>...</td>\n",
       "      <td>...</td>\n",
       "      <td>...</td>\n",
       "      <td>...</td>\n",
       "      <td>...</td>\n",
       "      <td>...</td>\n",
       "      <td>...</td>\n",
       "      <td>...</td>\n",
       "      <td>...</td>\n",
       "      <td>...</td>\n",
       "      <td>...</td>\n",
       "    </tr>\n",
       "    <tr>\n",
       "      <th>9995</th>\n",
       "      <td>Digital</td>\n",
       "      <td>OverDrive</td>\n",
       "      <td>AUDIOBOOK</td>\n",
       "      <td>2023</td>\n",
       "      <td>1</td>\n",
       "      <td>2</td>\n",
       "      <td>The Teacher's Funeral: A Comedy in Three Parts...</td>\n",
       "      <td>9780739345238</td>\n",
       "      <td>Richard Peck</td>\n",
       "      <td>Historical Fiction, Young Adult Fiction, Young...</td>\n",
       "      <td>Books on Tape</td>\n",
       "      <td>2006</td>\n",
       "    </tr>\n",
       "    <tr>\n",
       "      <th>9996</th>\n",
       "      <td>Digital</td>\n",
       "      <td>OverDrive</td>\n",
       "      <td>EBOOK</td>\n",
       "      <td>2023</td>\n",
       "      <td>1</td>\n",
       "      <td>1</td>\n",
       "      <td>We All Fall Down: The River City Duology Serie...</td>\n",
       "      <td>9780374314330</td>\n",
       "      <td>Rose Szabo</td>\n",
       "      <td>Fantasy, Young Adult Fiction, LGBTQIA+ (Fiction)</td>\n",
       "      <td>Macmillan Publishers</td>\n",
       "      <td>2022</td>\n",
       "    </tr>\n",
       "    <tr>\n",
       "      <th>9997</th>\n",
       "      <td>Digital</td>\n",
       "      <td>OverDrive</td>\n",
       "      <td>EBOOK</td>\n",
       "      <td>2023</td>\n",
       "      <td>1</td>\n",
       "      <td>1</td>\n",
       "      <td>The Last Days of Socrates</td>\n",
       "      <td>9780141965888</td>\n",
       "      <td>Plato</td>\n",
       "      <td>Classic Literature, Fiction</td>\n",
       "      <td>Penguin Random House UK</td>\n",
       "      <td>2010</td>\n",
       "    </tr>\n",
       "    <tr>\n",
       "      <th>9998</th>\n",
       "      <td>Digital</td>\n",
       "      <td>OverDrive</td>\n",
       "      <td>EBOOK</td>\n",
       "      <td>2023</td>\n",
       "      <td>1</td>\n",
       "      <td>1</td>\n",
       "      <td>The Children of Henry VIII</td>\n",
       "      <td>9780307806864</td>\n",
       "      <td>Alison Weir</td>\n",
       "      <td>Biography &amp; Autobiography, History, Nonfiction</td>\n",
       "      <td>Random House, Inc.</td>\n",
       "      <td>2013</td>\n",
       "    </tr>\n",
       "    <tr>\n",
       "      <th>9999</th>\n",
       "      <td>Digital</td>\n",
       "      <td>OverDrive</td>\n",
       "      <td>EBOOK</td>\n",
       "      <td>2023</td>\n",
       "      <td>1</td>\n",
       "      <td>2</td>\n",
       "      <td>One Breath: Freediving, Death, and the Quest t...</td>\n",
       "      <td>9780553447491</td>\n",
       "      <td>Adam Skolnick</td>\n",
       "      <td>Sports &amp; Recreations, Nonfiction</td>\n",
       "      <td>Random House, Inc.</td>\n",
       "      <td>2016</td>\n",
       "    </tr>\n",
       "  </tbody>\n",
       "</table>\n",
       "<p>10000 rows × 12 columns</p>\n",
       "</div>"
      ],
      "text/plain": [
       "     usageclass checkouttype materialtype  checkoutyear  checkoutmonth  \\\n",
       "0       Digital    OverDrive        EBOOK          2023              3   \n",
       "1       Digital    OverDrive        EBOOK          2023              3   \n",
       "2       Digital    OverDrive        EBOOK          2023              3   \n",
       "3       Digital    OverDrive        EBOOK          2023              3   \n",
       "4       Digital    OverDrive        EBOOK          2023              3   \n",
       "...         ...          ...          ...           ...            ...   \n",
       "9995    Digital    OverDrive    AUDIOBOOK          2023              1   \n",
       "9996    Digital    OverDrive        EBOOK          2023              1   \n",
       "9997    Digital    OverDrive        EBOOK          2023              1   \n",
       "9998    Digital    OverDrive        EBOOK          2023              1   \n",
       "9999    Digital    OverDrive        EBOOK          2023              1   \n",
       "\n",
       "      checkouts                                              title  \\\n",
       "0            10                         Self-Portrait with Nothing   \n",
       "1             6                                         The Fervor   \n",
       "2             1        Heidi Heckelbeck and the Christmas Surprise   \n",
       "3             2                             Selected Short Fiction   \n",
       "4             3                               Bellweather Rhapsody   \n",
       "...         ...                                                ...   \n",
       "9995          2  The Teacher's Funeral: A Comedy in Three Parts...   \n",
       "9996          1  We All Fall Down: The River City Duology Serie...   \n",
       "9997          1                          The Last Days of Socrates   \n",
       "9998          1                         The Children of Henry VIII   \n",
       "9999          2  One Breath: Freediving, Death, and the Quest t...   \n",
       "\n",
       "               isbn          creator  \\\n",
       "0     9781250820853   Aimee Pokwatka   \n",
       "1     9780593328347       Alma Katsu   \n",
       "2     9781442481268      Wanda Coven   \n",
       "3     9780786512362  Charles Dickens   \n",
       "4     9780544133471    Kate Racculia   \n",
       "...             ...              ...   \n",
       "9995  9780739345238     Richard Peck   \n",
       "9996  9780374314330       Rose Szabo   \n",
       "9997  9780141965888            Plato   \n",
       "9998  9780307806864      Alison Weir   \n",
       "9999  9780553447491    Adam Skolnick   \n",
       "\n",
       "                                               subjects  \\\n",
       "0         Fiction, Literature, Mystery, Science Fiction   \n",
       "1         Fiction, Horror, Thriller, Historical Fiction   \n",
       "2                                      Juvenile Fiction   \n",
       "3            Classic Literature, Fiction, Short Stories   \n",
       "4                          Fiction, Literature, Mystery   \n",
       "...                                                 ...   \n",
       "9995  Historical Fiction, Young Adult Fiction, Young...   \n",
       "9996   Fantasy, Young Adult Fiction, LGBTQIA+ (Fiction)   \n",
       "9997                        Classic Literature, Fiction   \n",
       "9998     Biography & Autobiography, History, Nonfiction   \n",
       "9999                   Sports & Recreations, Nonfiction   \n",
       "\n",
       "                          publisher publicationyear  \n",
       "0              Macmillan Publishers            2022  \n",
       "1         Penguin Group (USA), Inc.            2022  \n",
       "2            Simon & Schuster, Inc.            2014  \n",
       "3         Penguin Group (USA), Inc.            2011  \n",
       "4     HarperCollins Publishers Inc.            2014  \n",
       "...                             ...             ...  \n",
       "9995                  Books on Tape            2006  \n",
       "9996           Macmillan Publishers            2022  \n",
       "9997        Penguin Random House UK            2010  \n",
       "9998             Random House, Inc.            2013  \n",
       "9999             Random House, Inc.            2016  \n",
       "\n",
       "[10000 rows x 12 columns]"
      ]
     },
     "execution_count": 21,
     "metadata": {},
     "output_type": "execute_result"
    }
   ],
   "source": [
    "df_seattle_isbn"
   ]
  },
  {
   "cell_type": "code",
   "execution_count": 22,
   "id": "212c4923-e9b4-4f88-8082-56b87a61d6bd",
   "metadata": {},
   "outputs": [
    {
     "data": {
      "text/plain": [
       "Index(['usageclass', 'checkouttype', 'materialtype', 'checkoutyear',\n",
       "       'checkoutmonth', 'checkouts', 'title', 'isbn', 'creator', 'subjects',\n",
       "       'publisher', 'publicationyear'],\n",
       "      dtype='object')"
      ]
     },
     "execution_count": 22,
     "metadata": {},
     "output_type": "execute_result"
    }
   ],
   "source": [
    "df_seattle_isbn.keys()"
   ]
  },
  {
   "cell_type": "code",
   "execution_count": 23,
   "id": "b114bf53-c05b-4b1e-9b3d-a7384da4e214",
   "metadata": {},
   "outputs": [
    {
     "data": {
      "text/plain": [
       "array(['EBOOK', 'AUDIOBOOK', 'BOOK', 'VIDEODISC', 'SOUNDDISC'],\n",
       "      dtype=object)"
      ]
     },
     "execution_count": 23,
     "metadata": {},
     "output_type": "execute_result"
    }
   ],
   "source": [
    "df_seattle_isbn[\"materialtype\"].unique()"
   ]
  },
  {
   "cell_type": "code",
   "execution_count": 24,
   "id": "b7d3e780-d145-490d-9bda-8d36f9f2213c",
   "metadata": {},
   "outputs": [
    {
     "data": {
      "text/html": [
       "<div>\n",
       "<style scoped>\n",
       "    .dataframe tbody tr th:only-of-type {\n",
       "        vertical-align: middle;\n",
       "    }\n",
       "\n",
       "    .dataframe tbody tr th {\n",
       "        vertical-align: top;\n",
       "    }\n",
       "\n",
       "    .dataframe thead th {\n",
       "        text-align: right;\n",
       "    }\n",
       "</style>\n",
       "<table border=\"1\" class=\"dataframe\">\n",
       "  <thead>\n",
       "    <tr style=\"text-align: right;\">\n",
       "      <th></th>\n",
       "      <th>usageclass</th>\n",
       "      <th>checkouttype</th>\n",
       "      <th>materialtype</th>\n",
       "      <th>checkoutyear</th>\n",
       "      <th>checkoutmonth</th>\n",
       "      <th>checkouts</th>\n",
       "      <th>title</th>\n",
       "      <th>isbn</th>\n",
       "      <th>creator</th>\n",
       "      <th>subjects</th>\n",
       "      <th>publisher</th>\n",
       "      <th>publicationyear</th>\n",
       "    </tr>\n",
       "  </thead>\n",
       "  <tbody>\n",
       "    <tr>\n",
       "      <th>6</th>\n",
       "      <td>Digital</td>\n",
       "      <td>OverDrive</td>\n",
       "      <td>AUDIOBOOK</td>\n",
       "      <td>2023</td>\n",
       "      <td>3</td>\n",
       "      <td>2</td>\n",
       "      <td>Nine Inches: Stories (unabridged)</td>\n",
       "      <td>9781427235305</td>\n",
       "      <td>Tom Perrotta</td>\n",
       "      <td>Fiction, Literature, Short Stories</td>\n",
       "      <td>Macmillan Audio</td>\n",
       "      <td>2013</td>\n",
       "    </tr>\n",
       "    <tr>\n",
       "      <th>7</th>\n",
       "      <td>Digital</td>\n",
       "      <td>OverDrive</td>\n",
       "      <td>AUDIOBOOK</td>\n",
       "      <td>2023</td>\n",
       "      <td>3</td>\n",
       "      <td>1</td>\n",
       "      <td>Undiscovered Country (unabridged)</td>\n",
       "      <td>9781415956243</td>\n",
       "      <td>Lin Enger</td>\n",
       "      <td>Fiction, Literature</td>\n",
       "      <td>Books on Tape</td>\n",
       "      <td>2018</td>\n",
       "    </tr>\n",
       "    <tr>\n",
       "      <th>12</th>\n",
       "      <td>Digital</td>\n",
       "      <td>OverDrive</td>\n",
       "      <td>AUDIOBOOK</td>\n",
       "      <td>2023</td>\n",
       "      <td>3</td>\n",
       "      <td>1</td>\n",
       "      <td>Just One Touch (unabridged)</td>\n",
       "      <td>9780062674326</td>\n",
       "      <td>Maya Banks</td>\n",
       "      <td>Fiction, Romance, Suspense</td>\n",
       "      <td>HarperCollins Publishers Inc.</td>\n",
       "      <td>2017</td>\n",
       "    </tr>\n",
       "    <tr>\n",
       "      <th>17</th>\n",
       "      <td>Digital</td>\n",
       "      <td>OverDrive</td>\n",
       "      <td>AUDIOBOOK</td>\n",
       "      <td>2023</td>\n",
       "      <td>3</td>\n",
       "      <td>2</td>\n",
       "      <td>First Born: A Novel (unabridged)</td>\n",
       "      <td>9781797142814</td>\n",
       "      <td>Will Dean</td>\n",
       "      <td>Fiction, Suspense, Thriller</td>\n",
       "      <td>Simon &amp; Schuster - Audiobooks</td>\n",
       "      <td>2022</td>\n",
       "    </tr>\n",
       "    <tr>\n",
       "      <th>18</th>\n",
       "      <td>Digital</td>\n",
       "      <td>OverDrive</td>\n",
       "      <td>AUDIOBOOK</td>\n",
       "      <td>2023</td>\n",
       "      <td>3</td>\n",
       "      <td>5</td>\n",
       "      <td>Berlin Alexanderplatz (unabridged)</td>\n",
       "      <td>9781977353825</td>\n",
       "      <td>Alfred Doblin</td>\n",
       "      <td>Fiction, Literature</td>\n",
       "      <td>Tantor Media, Inc</td>\n",
       "      <td>2020</td>\n",
       "    </tr>\n",
       "    <tr>\n",
       "      <th>...</th>\n",
       "      <td>...</td>\n",
       "      <td>...</td>\n",
       "      <td>...</td>\n",
       "      <td>...</td>\n",
       "      <td>...</td>\n",
       "      <td>...</td>\n",
       "      <td>...</td>\n",
       "      <td>...</td>\n",
       "      <td>...</td>\n",
       "      <td>...</td>\n",
       "      <td>...</td>\n",
       "      <td>...</td>\n",
       "    </tr>\n",
       "    <tr>\n",
       "      <th>9987</th>\n",
       "      <td>Digital</td>\n",
       "      <td>OverDrive</td>\n",
       "      <td>AUDIOBOOK</td>\n",
       "      <td>2023</td>\n",
       "      <td>1</td>\n",
       "      <td>2</td>\n",
       "      <td>The Wires of War: Technology and the Global St...</td>\n",
       "      <td>9781797132723</td>\n",
       "      <td>Jacob Helberg</td>\n",
       "      <td>Computer Technology, Politics, Nonfiction</td>\n",
       "      <td>Simon &amp; Schuster - Audiobooks</td>\n",
       "      <td>2021</td>\n",
       "    </tr>\n",
       "    <tr>\n",
       "      <th>9988</th>\n",
       "      <td>Digital</td>\n",
       "      <td>OverDrive</td>\n",
       "      <td>AUDIOBOOK</td>\n",
       "      <td>2023</td>\n",
       "      <td>1</td>\n",
       "      <td>9</td>\n",
       "      <td>Winter's Orbit (unabridged)</td>\n",
       "      <td>9781250790194</td>\n",
       "      <td>Everina Maxwell</td>\n",
       "      <td>Fiction, Science Fiction</td>\n",
       "      <td>Macmillan Audio</td>\n",
       "      <td>2021</td>\n",
       "    </tr>\n",
       "    <tr>\n",
       "      <th>9990</th>\n",
       "      <td>Digital</td>\n",
       "      <td>OverDrive</td>\n",
       "      <td>AUDIOBOOK</td>\n",
       "      <td>2023</td>\n",
       "      <td>1</td>\n",
       "      <td>8</td>\n",
       "      <td>They Do It With Mirrors: Miss Marple Series, B...</td>\n",
       "      <td>9781408484890</td>\n",
       "      <td>Agatha Christie</td>\n",
       "      <td>Fiction, Mystery, Thriller</td>\n",
       "      <td>Penguin Random House UK</td>\n",
       "      <td>2021</td>\n",
       "    </tr>\n",
       "    <tr>\n",
       "      <th>9992</th>\n",
       "      <td>Digital</td>\n",
       "      <td>OverDrive</td>\n",
       "      <td>AUDIOBOOK</td>\n",
       "      <td>2023</td>\n",
       "      <td>1</td>\n",
       "      <td>45</td>\n",
       "      <td>Portrait of a Thief: A Novel (unabridged)</td>\n",
       "      <td>9780593510964</td>\n",
       "      <td>Grace D. Li</td>\n",
       "      <td>Fiction, Literature, Mystery</td>\n",
       "      <td>Books on Tape</td>\n",
       "      <td>2022</td>\n",
       "    </tr>\n",
       "    <tr>\n",
       "      <th>9995</th>\n",
       "      <td>Digital</td>\n",
       "      <td>OverDrive</td>\n",
       "      <td>AUDIOBOOK</td>\n",
       "      <td>2023</td>\n",
       "      <td>1</td>\n",
       "      <td>2</td>\n",
       "      <td>The Teacher's Funeral: A Comedy in Three Parts...</td>\n",
       "      <td>9780739345238</td>\n",
       "      <td>Richard Peck</td>\n",
       "      <td>Historical Fiction, Young Adult Fiction, Young...</td>\n",
       "      <td>Books on Tape</td>\n",
       "      <td>2006</td>\n",
       "    </tr>\n",
       "  </tbody>\n",
       "</table>\n",
       "<p>3301 rows × 12 columns</p>\n",
       "</div>"
      ],
      "text/plain": [
       "     usageclass checkouttype materialtype  checkoutyear  checkoutmonth  \\\n",
       "6       Digital    OverDrive    AUDIOBOOK          2023              3   \n",
       "7       Digital    OverDrive    AUDIOBOOK          2023              3   \n",
       "12      Digital    OverDrive    AUDIOBOOK          2023              3   \n",
       "17      Digital    OverDrive    AUDIOBOOK          2023              3   \n",
       "18      Digital    OverDrive    AUDIOBOOK          2023              3   \n",
       "...         ...          ...          ...           ...            ...   \n",
       "9987    Digital    OverDrive    AUDIOBOOK          2023              1   \n",
       "9988    Digital    OverDrive    AUDIOBOOK          2023              1   \n",
       "9990    Digital    OverDrive    AUDIOBOOK          2023              1   \n",
       "9992    Digital    OverDrive    AUDIOBOOK          2023              1   \n",
       "9995    Digital    OverDrive    AUDIOBOOK          2023              1   \n",
       "\n",
       "      checkouts                                              title  \\\n",
       "6             2                  Nine Inches: Stories (unabridged)   \n",
       "7             1                  Undiscovered Country (unabridged)   \n",
       "12            1                        Just One Touch (unabridged)   \n",
       "17            2                   First Born: A Novel (unabridged)   \n",
       "18            5                 Berlin Alexanderplatz (unabridged)   \n",
       "...         ...                                                ...   \n",
       "9987          2  The Wires of War: Technology and the Global St...   \n",
       "9988          9                        Winter's Orbit (unabridged)   \n",
       "9990          8  They Do It With Mirrors: Miss Marple Series, B...   \n",
       "9992         45          Portrait of a Thief: A Novel (unabridged)   \n",
       "9995          2  The Teacher's Funeral: A Comedy in Three Parts...   \n",
       "\n",
       "               isbn          creator  \\\n",
       "6     9781427235305     Tom Perrotta   \n",
       "7     9781415956243        Lin Enger   \n",
       "12    9780062674326       Maya Banks   \n",
       "17    9781797142814        Will Dean   \n",
       "18    9781977353825    Alfred Doblin   \n",
       "...             ...              ...   \n",
       "9987  9781797132723    Jacob Helberg   \n",
       "9988  9781250790194  Everina Maxwell   \n",
       "9990  9781408484890  Agatha Christie   \n",
       "9992  9780593510964      Grace D. Li   \n",
       "9995  9780739345238     Richard Peck   \n",
       "\n",
       "                                               subjects  \\\n",
       "6                    Fiction, Literature, Short Stories   \n",
       "7                                   Fiction, Literature   \n",
       "12                           Fiction, Romance, Suspense   \n",
       "17                          Fiction, Suspense, Thriller   \n",
       "18                                  Fiction, Literature   \n",
       "...                                                 ...   \n",
       "9987          Computer Technology, Politics, Nonfiction   \n",
       "9988                           Fiction, Science Fiction   \n",
       "9990                         Fiction, Mystery, Thriller   \n",
       "9992                       Fiction, Literature, Mystery   \n",
       "9995  Historical Fiction, Young Adult Fiction, Young...   \n",
       "\n",
       "                          publisher publicationyear  \n",
       "6                   Macmillan Audio            2013  \n",
       "7                     Books on Tape            2018  \n",
       "12    HarperCollins Publishers Inc.            2017  \n",
       "17    Simon & Schuster - Audiobooks            2022  \n",
       "18                Tantor Media, Inc            2020  \n",
       "...                             ...             ...  \n",
       "9987  Simon & Schuster - Audiobooks            2021  \n",
       "9988                Macmillan Audio            2021  \n",
       "9990        Penguin Random House UK            2021  \n",
       "9992                  Books on Tape            2022  \n",
       "9995                  Books on Tape            2006  \n",
       "\n",
       "[3301 rows x 12 columns]"
      ]
     },
     "execution_count": 24,
     "metadata": {},
     "output_type": "execute_result"
    }
   ],
   "source": [
    "df_seattle_isbn[df_seattle_isbn[\"materialtype\"]==\"AUDIOBOOK\"]"
   ]
  },
  {
   "cell_type": "code",
   "execution_count": 25,
   "id": "5697aaed-526e-4e79-97cf-fb81ba034a35",
   "metadata": {},
   "outputs": [
    {
     "data": {
      "text/html": [
       "<div>\n",
       "<style scoped>\n",
       "    .dataframe tbody tr th:only-of-type {\n",
       "        vertical-align: middle;\n",
       "    }\n",
       "\n",
       "    .dataframe tbody tr th {\n",
       "        vertical-align: top;\n",
       "    }\n",
       "\n",
       "    .dataframe thead th {\n",
       "        text-align: right;\n",
       "    }\n",
       "</style>\n",
       "<table border=\"1\" class=\"dataframe\">\n",
       "  <thead>\n",
       "    <tr style=\"text-align: right;\">\n",
       "      <th></th>\n",
       "      <th>usageclass</th>\n",
       "      <th>checkouttype</th>\n",
       "      <th>materialtype</th>\n",
       "      <th>checkoutyear</th>\n",
       "      <th>checkoutmonth</th>\n",
       "      <th>checkouts</th>\n",
       "      <th>title</th>\n",
       "      <th>isbn</th>\n",
       "      <th>creator</th>\n",
       "      <th>subjects</th>\n",
       "      <th>publisher</th>\n",
       "      <th>publicationyear</th>\n",
       "    </tr>\n",
       "  </thead>\n",
       "  <tbody>\n",
       "    <tr>\n",
       "      <th>4391</th>\n",
       "      <td>Physical</td>\n",
       "      <td>Horizon</td>\n",
       "      <td>VIDEODISC</td>\n",
       "      <td>2023</td>\n",
       "      <td>1</td>\n",
       "      <td>2</td>\n",
       "      <td>Finding your roots. Season 2 / with Henry Loui...</td>\n",
       "      <td>9781627890946</td>\n",
       "      <td>NaN</td>\n",
       "      <td>Genealogy, Celebrities Genealogy, Celebrities ...</td>\n",
       "      <td>Distributed by PBS Distribution,</td>\n",
       "      <td>[2014]</td>\n",
       "    </tr>\n",
       "    <tr>\n",
       "      <th>4496</th>\n",
       "      <td>Physical</td>\n",
       "      <td>Horizon</td>\n",
       "      <td>VIDEODISC</td>\n",
       "      <td>2023</td>\n",
       "      <td>1</td>\n",
       "      <td>1</td>\n",
       "      <td>Craft in America. Celebration / executive prod...</td>\n",
       "      <td>9781627894258</td>\n",
       "      <td>NaN</td>\n",
       "      <td>Handicraft United States History 20th century,...</td>\n",
       "      <td>Distributed by PBS Distribution,</td>\n",
       "      <td>c2016.</td>\n",
       "    </tr>\n",
       "    <tr>\n",
       "      <th>7102</th>\n",
       "      <td>Physical</td>\n",
       "      <td>Horizon</td>\n",
       "      <td>VIDEODISC</td>\n",
       "      <td>2023</td>\n",
       "      <td>1</td>\n",
       "      <td>5</td>\n",
       "      <td>The fugitive kind / 20th Century Fox ; Metro-G...</td>\n",
       "      <td>9781604652703</td>\n",
       "      <td>NaN</td>\n",
       "      <td>Triangles Interpersonal relations Drama, Drift...</td>\n",
       "      <td>Criterion Collection,</td>\n",
       "      <td>2010.</td>\n",
       "    </tr>\n",
       "    <tr>\n",
       "      <th>8999</th>\n",
       "      <td>Physical</td>\n",
       "      <td>Horizon</td>\n",
       "      <td>VIDEODISC</td>\n",
       "      <td>2023</td>\n",
       "      <td>1</td>\n",
       "      <td>2</td>\n",
       "      <td>Defiant Requiem / a Partisan Pictures producti...</td>\n",
       "      <td>9781608839179</td>\n",
       "      <td>NaN</td>\n",
       "      <td>Sch„chter Raphael, Verdi Giuseppe 1813 1901 Me...</td>\n",
       "      <td>PBS Distribution,</td>\n",
       "      <td>[2013]</td>\n",
       "    </tr>\n",
       "  </tbody>\n",
       "</table>\n",
       "</div>"
      ],
      "text/plain": [
       "     usageclass checkouttype materialtype  checkoutyear  checkoutmonth  \\\n",
       "4391   Physical      Horizon    VIDEODISC          2023              1   \n",
       "4496   Physical      Horizon    VIDEODISC          2023              1   \n",
       "7102   Physical      Horizon    VIDEODISC          2023              1   \n",
       "8999   Physical      Horizon    VIDEODISC          2023              1   \n",
       "\n",
       "      checkouts                                              title  \\\n",
       "4391          2  Finding your roots. Season 2 / with Henry Loui...   \n",
       "4496          1  Craft in America. Celebration / executive prod...   \n",
       "7102          5  The fugitive kind / 20th Century Fox ; Metro-G...   \n",
       "8999          2  Defiant Requiem / a Partisan Pictures producti...   \n",
       "\n",
       "               isbn creator  \\\n",
       "4391  9781627890946     NaN   \n",
       "4496  9781627894258     NaN   \n",
       "7102  9781604652703     NaN   \n",
       "8999  9781608839179     NaN   \n",
       "\n",
       "                                               subjects  \\\n",
       "4391  Genealogy, Celebrities Genealogy, Celebrities ...   \n",
       "4496  Handicraft United States History 20th century,...   \n",
       "7102  Triangles Interpersonal relations Drama, Drift...   \n",
       "8999  Sch„chter Raphael, Verdi Giuseppe 1813 1901 Me...   \n",
       "\n",
       "                             publisher publicationyear  \n",
       "4391  Distributed by PBS Distribution,          [2014]  \n",
       "4496  Distributed by PBS Distribution,          c2016.  \n",
       "7102             Criterion Collection,           2010.  \n",
       "8999                 PBS Distribution,          [2013]  "
      ]
     },
     "execution_count": 25,
     "metadata": {},
     "output_type": "execute_result"
    }
   ],
   "source": [
    "df_seattle_isbn[df_seattle_isbn[\"materialtype\"]==\"VIDEODISC\"]"
   ]
  },
  {
   "cell_type": "code",
   "execution_count": 26,
   "id": "247d54d4-cacc-4c74-b314-3aea61050f87",
   "metadata": {},
   "outputs": [
    {
     "data": {
      "text/plain": [
       "usageclass\n",
       "Digital     9942\n",
       "Physical      58\n",
       "Name: count, dtype: int64"
      ]
     },
     "execution_count": 26,
     "metadata": {},
     "output_type": "execute_result"
    }
   ],
   "source": [
    "df_seattle_isbn[\"usageclass\"].value_counts()"
   ]
  },
  {
   "cell_type": "markdown",
   "id": "834462a9-0dc0-4244-9025-318948bb500b",
   "metadata": {},
   "source": [
    "### Download physical with 978 ISBN"
   ]
  },
  {
   "cell_type": "code",
   "execution_count": 27,
   "id": "88a32a90-78cc-4129-9ab8-1bb829187c52",
   "metadata": {},
   "outputs": [
    {
     "data": {
      "text/plain": [
       "('checkout2.csv', <http.client.HTTPMessage at 0x798406be2180>)"
      ]
     },
     "execution_count": 27,
     "metadata": {},
     "output_type": "execute_result"
    }
   ],
   "source": [
    "url = \"https://data.seattle.gov/resource/tmmm-ytt6.csv?$where=(starts_with(isbn,%20'978')%20OR%20starts_with(isbn,'979'))%20AND%20usageclass='Physical'&$limit=10000\"\n",
    "local_file = \"checkout2.csv\"\n",
    "urllib.request.urlretrieve(url, local_file)"
   ]
  },
  {
   "cell_type": "code",
   "execution_count": 28,
   "id": "82076fd0-ec66-4d1f-a748-02e5647702ff",
   "metadata": {},
   "outputs": [],
   "source": [
    "df_physical = pd.read_csv(local_file)"
   ]
  },
  {
   "cell_type": "code",
   "execution_count": 29,
   "id": "47d3ed7f-0e69-4a4d-856b-ec4a15b0b62b",
   "metadata": {},
   "outputs": [
    {
     "data": {
      "text/html": [
       "<div>\n",
       "<style scoped>\n",
       "    .dataframe tbody tr th:only-of-type {\n",
       "        vertical-align: middle;\n",
       "    }\n",
       "\n",
       "    .dataframe tbody tr th {\n",
       "        vertical-align: top;\n",
       "    }\n",
       "\n",
       "    .dataframe thead th {\n",
       "        text-align: right;\n",
       "    }\n",
       "</style>\n",
       "<table border=\"1\" class=\"dataframe\">\n",
       "  <thead>\n",
       "    <tr style=\"text-align: right;\">\n",
       "      <th></th>\n",
       "      <th>usageclass</th>\n",
       "      <th>checkouttype</th>\n",
       "      <th>materialtype</th>\n",
       "      <th>checkoutyear</th>\n",
       "      <th>checkoutmonth</th>\n",
       "      <th>checkouts</th>\n",
       "      <th>title</th>\n",
       "      <th>isbn</th>\n",
       "      <th>creator</th>\n",
       "      <th>subjects</th>\n",
       "      <th>publisher</th>\n",
       "      <th>publicationyear</th>\n",
       "    </tr>\n",
       "  </thead>\n",
       "  <tbody>\n",
       "    <tr>\n",
       "      <th>0</th>\n",
       "      <td>Physical</td>\n",
       "      <td>Horizon</td>\n",
       "      <td>BOOK</td>\n",
       "      <td>2022</td>\n",
       "      <td>5</td>\n",
       "      <td>17</td>\n",
       "      <td>Macrina Bakery : seasons / written by Leslie M...</td>\n",
       "      <td>9780578614939, 9789910387715, 9910387719</td>\n",
       "      <td>Mackie, Leslie</td>\n",
       "      <td>Seasonal cooking, Macrina Bakery and Cafe, Foo...</td>\n",
       "      <td>Macrina Bakery,</td>\n",
       "      <td>[2019]</td>\n",
       "    </tr>\n",
       "    <tr>\n",
       "      <th>1</th>\n",
       "      <td>Physical</td>\n",
       "      <td>Horizon</td>\n",
       "      <td>BOOK</td>\n",
       "      <td>2022</td>\n",
       "      <td>5</td>\n",
       "      <td>1</td>\n",
       "      <td>The red apple / Feridun Oral.</td>\n",
       "      <td>9789888240005, 9888240005</td>\n",
       "      <td>Oral, Feridun</td>\n",
       "      <td>Friendship Juvenile fiction, Cooperation Juven...</td>\n",
       "      <td>Minedition (Michael Neugebauer Publishing Ltd.),</td>\n",
       "      <td>[2015]</td>\n",
       "    </tr>\n",
       "    <tr>\n",
       "      <th>2</th>\n",
       "      <td>Physical</td>\n",
       "      <td>Horizon</td>\n",
       "      <td>BOOK</td>\n",
       "      <td>2022</td>\n",
       "      <td>5</td>\n",
       "      <td>1</td>\n",
       "      <td>Tai cai ben wei : Huang Wanling de cai wei tan...</td>\n",
       "      <td>9789869899659, 986989965X</td>\n",
       "      <td>Huang, Wanling</td>\n",
       "      <td>Cooking Chinese Taiwan style, Snack foods Taiw...</td>\n",
       "      <td>Xie le wen hua you xian gong si,</td>\n",
       "      <td>2021.</td>\n",
       "    </tr>\n",
       "    <tr>\n",
       "      <th>3</th>\n",
       "      <td>Physical</td>\n",
       "      <td>Horizon</td>\n",
       "      <td>BOOK</td>\n",
       "      <td>2022</td>\n",
       "      <td>5</td>\n",
       "      <td>1</td>\n",
       "      <td>Mr. Hollyberry's Christmas gift / by Kate West...</td>\n",
       "      <td>9789888341627, 9888341626</td>\n",
       "      <td>Westerlund, Kate</td>\n",
       "      <td>Snowmen Juvenile fiction, Cats Juvenile fictio...</td>\n",
       "      <td>Michael Neugebauer Publishing,</td>\n",
       "      <td>2018.</td>\n",
       "    </tr>\n",
       "    <tr>\n",
       "      <th>4</th>\n",
       "      <td>Physical</td>\n",
       "      <td>Horizon</td>\n",
       "      <td>BOOK</td>\n",
       "      <td>2022</td>\n",
       "      <td>5</td>\n",
       "      <td>3</td>\n",
       "      <td>Geek love / Katherine Dunn.</td>\n",
       "      <td>9780375713347</td>\n",
       "      <td>Dunn, Katherine, 1945-2016</td>\n",
       "      <td>Carnival owners Fiction, Circus performers Fic...</td>\n",
       "      <td>Vintage Books,</td>\n",
       "      <td>2002.</td>\n",
       "    </tr>\n",
       "    <tr>\n",
       "      <th>...</th>\n",
       "      <td>...</td>\n",
       "      <td>...</td>\n",
       "      <td>...</td>\n",
       "      <td>...</td>\n",
       "      <td>...</td>\n",
       "      <td>...</td>\n",
       "      <td>...</td>\n",
       "      <td>...</td>\n",
       "      <td>...</td>\n",
       "      <td>...</td>\n",
       "      <td>...</td>\n",
       "      <td>...</td>\n",
       "    </tr>\n",
       "    <tr>\n",
       "      <th>9995</th>\n",
       "      <td>Physical</td>\n",
       "      <td>Horizon</td>\n",
       "      <td>BOOK</td>\n",
       "      <td>2023</td>\n",
       "      <td>4</td>\n",
       "      <td>1</td>\n",
       "      <td>Adaku &amp; other stories / Ken Saro-Wiwa.</td>\n",
       "      <td>9782460117</td>\n",
       "      <td>Saro-Wiwa, Ken, 1941-1995</td>\n",
       "      <td>NaN</td>\n",
       "      <td>Saros International Publishers,</td>\n",
       "      <td>1989.</td>\n",
       "    </tr>\n",
       "    <tr>\n",
       "      <th>9996</th>\n",
       "      <td>Physical</td>\n",
       "      <td>Horizon</td>\n",
       "      <td>BOOK</td>\n",
       "      <td>2023</td>\n",
       "      <td>4</td>\n",
       "      <td>5</td>\n",
       "      <td>The forgotten crayon / Yoko Maruyama.</td>\n",
       "      <td>9789888341986, 9888341987</td>\n",
       "      <td>Maruyama, Yoko (Children's author)</td>\n",
       "      <td>Crayons Juvenile fiction, Picture books</td>\n",
       "      <td>Michael Neugebauer Publishing,</td>\n",
       "      <td>2019.</td>\n",
       "    </tr>\n",
       "    <tr>\n",
       "      <th>9997</th>\n",
       "      <td>Physical</td>\n",
       "      <td>Horizon</td>\n",
       "      <td>BOOK</td>\n",
       "      <td>2023</td>\n",
       "      <td>4</td>\n",
       "      <td>3</td>\n",
       "      <td>Korean children's favorite stories / retold by...</td>\n",
       "      <td>9780804835916</td>\n",
       "      <td>Kim, So-un, 1907-1981</td>\n",
       "      <td>Tales Korea Juvenile literature, Folklore Kore...</td>\n",
       "      <td>Tuttle Pub.,</td>\n",
       "      <td>[2004]</td>\n",
       "    </tr>\n",
       "    <tr>\n",
       "      <th>9998</th>\n",
       "      <td>Physical</td>\n",
       "      <td>Horizon</td>\n",
       "      <td>VIDEODISC</td>\n",
       "      <td>2023</td>\n",
       "      <td>4</td>\n",
       "      <td>31</td>\n",
       "      <td>Bergman island / IFC Films and CG Cinéma prese...</td>\n",
       "      <td>9789798886072, 9798886070, 9798886070125</td>\n",
       "      <td>NaN</td>\n",
       "      <td>Bergman Ingmar 1918 2007 Drama, Independent fi...</td>\n",
       "      <td>Criterion Collection,</td>\n",
       "      <td>[2023]</td>\n",
       "    </tr>\n",
       "    <tr>\n",
       "      <th>9999</th>\n",
       "      <td>Physical</td>\n",
       "      <td>Horizon</td>\n",
       "      <td>VIDEODISC</td>\n",
       "      <td>2023</td>\n",
       "      <td>4</td>\n",
       "      <td>1</td>\n",
       "      <td>Hildegard von Bingen : in portrait : Ordo virt...</td>\n",
       "      <td>9780769708751</td>\n",
       "      <td>NaN</td>\n",
       "      <td>Hildegard Saint 1098 1179, Christian women sai...</td>\n",
       "      <td>Kultur/Opus Arte,</td>\n",
       "      <td>[2003]</td>\n",
       "    </tr>\n",
       "  </tbody>\n",
       "</table>\n",
       "<p>10000 rows × 12 columns</p>\n",
       "</div>"
      ],
      "text/plain": [
       "     usageclass checkouttype materialtype  checkoutyear  checkoutmonth  \\\n",
       "0      Physical      Horizon         BOOK          2022              5   \n",
       "1      Physical      Horizon         BOOK          2022              5   \n",
       "2      Physical      Horizon         BOOK          2022              5   \n",
       "3      Physical      Horizon         BOOK          2022              5   \n",
       "4      Physical      Horizon         BOOK          2022              5   \n",
       "...         ...          ...          ...           ...            ...   \n",
       "9995   Physical      Horizon         BOOK          2023              4   \n",
       "9996   Physical      Horizon         BOOK          2023              4   \n",
       "9997   Physical      Horizon         BOOK          2023              4   \n",
       "9998   Physical      Horizon    VIDEODISC          2023              4   \n",
       "9999   Physical      Horizon    VIDEODISC          2023              4   \n",
       "\n",
       "      checkouts                                              title  \\\n",
       "0            17  Macrina Bakery : seasons / written by Leslie M...   \n",
       "1             1                      The red apple / Feridun Oral.   \n",
       "2             1  Tai cai ben wei : Huang Wanling de cai wei tan...   \n",
       "3             1  Mr. Hollyberry's Christmas gift / by Kate West...   \n",
       "4             3                        Geek love / Katherine Dunn.   \n",
       "...         ...                                                ...   \n",
       "9995          1             Adaku & other stories / Ken Saro-Wiwa.   \n",
       "9996          5              The forgotten crayon / Yoko Maruyama.   \n",
       "9997          3  Korean children's favorite stories / retold by...   \n",
       "9998         31  Bergman island / IFC Films and CG Cinéma prese...   \n",
       "9999          1  Hildegard von Bingen : in portrait : Ordo virt...   \n",
       "\n",
       "                                          isbn  \\\n",
       "0     9780578614939, 9789910387715, 9910387719   \n",
       "1                    9789888240005, 9888240005   \n",
       "2                    9789869899659, 986989965X   \n",
       "3                    9789888341627, 9888341626   \n",
       "4                                9780375713347   \n",
       "...                                        ...   \n",
       "9995                                9782460117   \n",
       "9996                 9789888341986, 9888341987   \n",
       "9997                             9780804835916   \n",
       "9998  9789798886072, 9798886070, 9798886070125   \n",
       "9999                             9780769708751   \n",
       "\n",
       "                                 creator  \\\n",
       "0                         Mackie, Leslie   \n",
       "1                          Oral, Feridun   \n",
       "2                         Huang, Wanling   \n",
       "3                       Westerlund, Kate   \n",
       "4             Dunn, Katherine, 1945-2016   \n",
       "...                                  ...   \n",
       "9995           Saro-Wiwa, Ken, 1941-1995   \n",
       "9996  Maruyama, Yoko (Children's author)   \n",
       "9997               Kim, So-un, 1907-1981   \n",
       "9998                                 NaN   \n",
       "9999                                 NaN   \n",
       "\n",
       "                                               subjects  \\\n",
       "0     Seasonal cooking, Macrina Bakery and Cafe, Foo...   \n",
       "1     Friendship Juvenile fiction, Cooperation Juven...   \n",
       "2     Cooking Chinese Taiwan style, Snack foods Taiw...   \n",
       "3     Snowmen Juvenile fiction, Cats Juvenile fictio...   \n",
       "4     Carnival owners Fiction, Circus performers Fic...   \n",
       "...                                                 ...   \n",
       "9995                                                NaN   \n",
       "9996            Crayons Juvenile fiction, Picture books   \n",
       "9997  Tales Korea Juvenile literature, Folklore Kore...   \n",
       "9998  Bergman Ingmar 1918 2007 Drama, Independent fi...   \n",
       "9999  Hildegard Saint 1098 1179, Christian women sai...   \n",
       "\n",
       "                                             publisher publicationyear  \n",
       "0                                      Macrina Bakery,          [2019]  \n",
       "1     Minedition (Michael Neugebauer Publishing Ltd.),          [2015]  \n",
       "2                     Xie le wen hua you xian gong si,           2021.  \n",
       "3                       Michael Neugebauer Publishing,           2018.  \n",
       "4                                       Vintage Books,           2002.  \n",
       "...                                                ...             ...  \n",
       "9995                   Saros International Publishers,           1989.  \n",
       "9996                    Michael Neugebauer Publishing,           2019.  \n",
       "9997                                      Tuttle Pub.,          [2004]  \n",
       "9998                             Criterion Collection,          [2023]  \n",
       "9999                                 Kultur/Opus Arte,          [2003]  \n",
       "\n",
       "[10000 rows x 12 columns]"
      ]
     },
     "execution_count": 29,
     "metadata": {},
     "output_type": "execute_result"
    }
   ],
   "source": [
    "df_physical"
   ]
  },
  {
   "cell_type": "code",
   "execution_count": null,
   "id": "a91d3208-4cbd-40b4-a534-51d10d698c69",
   "metadata": {},
   "outputs": [],
   "source": []
  }
 ],
 "metadata": {
  "kernelspec": {
   "display_name": "Python 3 (ipykernel)",
   "language": "python",
   "name": "python3"
  },
  "language_info": {
   "codemirror_mode": {
    "name": "ipython",
    "version": 3
   },
   "file_extension": ".py",
   "mimetype": "text/x-python",
   "name": "python",
   "nbconvert_exporter": "python",
   "pygments_lexer": "ipython3",
   "version": "3.12.7"
  }
 },
 "nbformat": 4,
 "nbformat_minor": 5
}
