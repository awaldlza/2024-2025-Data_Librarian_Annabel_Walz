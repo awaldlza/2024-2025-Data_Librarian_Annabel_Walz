{
 "cells": [
  {
   "cell_type": "markdown",
   "id": "82ea628a-89a1-44b6-bb00-9d89d5b67dde",
   "metadata": {},
   "source": [
    "# Datenanalyse Seattle Library"
   ]
  },
  {
   "cell_type": "code",
   "execution_count": 1,
   "id": "73e7abc2-21db-458f-9dc8-738a70b250a7",
   "metadata": {},
   "outputs": [],
   "source": [
    "import urllib.request\n",
    "import pandas as pd\n",
    "import matplotlib.pyplot as plt\n",
    "import csv"
   ]
  },
  {
   "cell_type": "markdown",
   "id": "ddb4374f-eb0e-470e-955c-5e416385cfb0",
   "metadata": {},
   "source": [
    "## (1) Titel und Autor für meistausgeliehene Medien im Januar 2023"
   ]
  },
  {
   "cell_type": "markdown",
   "id": "a143451c-6ea6-4c3f-ae49-a7c346c88f17",
   "metadata": {
    "jp-MarkdownHeadingCollapsed": true
   },
   "source": [
    "### Daten runterladen"
   ]
  },
  {
   "cell_type": "markdown",
   "id": "10ae15ce-df95-452c-88f7-f4a4a5882229",
   "metadata": {},
   "source": [
    "Daten werden schon bei Abfrage bei der API gefiltert nach digitalen und physischen Medien, Entleihjahr und -monat und Mindestanzahl von Ausleihen. Die Mindestanzahl wurde durch Testen so ermittelt, dass die Ausgabe unter den maximal 10.000 Einheiten blieb.\n",
    "Die Query wurde encoded mithilfe von [https://www.coderstool.com/querystring-encode](https://www.coderstool.com/querystring-encode)"
   ]
  },
  {
   "cell_type": "code",
   "execution_count": 2,
   "id": "96a0403b-b71b-4965-911a-4617b91e9217",
   "metadata": {},
   "outputs": [
    {
     "data": {
      "text/plain": [
       "('physical_2023-01.csv', <http.client.HTTPMessage at 0x7f746c88fce0>)"
      ]
     },
     "execution_count": 2,
     "metadata": {},
     "output_type": "execute_result"
    }
   ],
   "source": [
    "# Query: Ausleihen im Januar 2023 von physischen Medien mit Ausleihzahl von mindestens 6\n",
    "url = f\"https://data.seattle.gov/resource/tmmm-ytt6.csv?$where=usageclass='Physical'&checkoutyear=2023&checkoutmonth=01%20AND%20checkouts%3E6&$limit=10000\"\n",
    "local_file_phys = \"physical_2023-01.csv\"\n",
    "urllib.request.urlretrieve(url, local_file_phys)"
   ]
  },
  {
   "cell_type": "code",
   "execution_count": 3,
   "id": "715469a8-5a42-4fc3-9200-322af8b835c2",
   "metadata": {},
   "outputs": [
    {
     "data": {
      "text/plain": [
       "('digital_2023-01.csv', <http.client.HTTPMessage at 0x7f746c88ff20>)"
      ]
     },
     "execution_count": 3,
     "metadata": {},
     "output_type": "execute_result"
    }
   ],
   "source": [
    "# Query: Ausleihen im Januar 2023 von digitalen Medien mit Ausleihzahl von mindestens 8\n",
    "url = \"https://data.seattle.gov/resource/tmmm-ytt6.csv?$where=usageclass='Digital'&checkoutyear=2023&checkoutmonth=01%20AND%20checkouts%3E8&$limit=10000\"\n",
    "local_file_dig = \"digital_2023-01.csv\"\n",
    "urllib.request.urlretrieve(url, local_file_dig)"
   ]
  },
  {
   "cell_type": "code",
   "execution_count": 4,
   "id": "3ecfefc7-539c-4a02-b5f5-96b344f59d94",
   "metadata": {},
   "outputs": [],
   "source": [
    "# Laden in Dateframes\n",
    "df_physical = pd.read_csv(local_file_phys)\n",
    "df_digital = pd.read_csv(local_file_dig)"
   ]
  },
  {
   "cell_type": "code",
   "execution_count": 5,
   "id": "ceda86f4-de3e-4310-b8f5-ee7df01e004f",
   "metadata": {},
   "outputs": [
    {
     "data": {
      "text/plain": [
       "(9975, 12)"
      ]
     },
     "execution_count": 5,
     "metadata": {},
     "output_type": "execute_result"
    }
   ],
   "source": [
    "df_physical.shape"
   ]
  },
  {
   "cell_type": "code",
   "execution_count": 6,
   "id": "3f37831e-f633-4b87-b679-049ad5299828",
   "metadata": {},
   "outputs": [
    {
     "data": {
      "text/plain": [
       "(8867, 12)"
      ]
     },
     "execution_count": 6,
     "metadata": {},
     "output_type": "execute_result"
    }
   ],
   "source": [
    "df_digital.shape"
   ]
  },
  {
   "cell_type": "markdown",
   "id": "bfc71f79-2a78-4944-ae72-0679aff377e6",
   "metadata": {
    "jp-MarkdownHeadingCollapsed": true
   },
   "source": [
    "### Die beiden meistausgeliehenen Objekte (physisch und digital)"
   ]
  },
  {
   "cell_type": "code",
   "execution_count": 7,
   "id": "d908fd0b-ce27-480f-b940-df4095172df5",
   "metadata": {},
   "outputs": [],
   "source": [
    "max_phys_int = df_physical[\"checkouts\"].max()\n",
    "max_dig_int = df_digital[\"checkouts\"].max()"
   ]
  },
  {
   "cell_type": "code",
   "execution_count": 8,
   "id": "611b6bc6-fadc-4ff8-9162-9d1c695e4801",
   "metadata": {},
   "outputs": [
    {
     "name": "stdout",
     "output_type": "stream",
     "text": [
      "Maximale Ausleihzahl eines physischen Objekts: 2115\n",
      "Maximale Ausleihzahl eines digitalen Objekts: 791\n"
     ]
    }
   ],
   "source": [
    "print(\"Maximale Ausleihzahl eines physischen Objekts: \" + str(max_phys_int))\n",
    "print(\"Maximale Ausleihzahl eines digitalen Objekts: \" + str(max_dig_int))"
   ]
  },
  {
   "cell_type": "code",
   "execution_count": 9,
   "id": "d37d20af-3dc7-4565-89d3-6be7a9cec02a",
   "metadata": {},
   "outputs": [],
   "source": [
    "max_phys_row = df_physical.loc[df_physical[\"checkouts\"] == max_phys_int]\n",
    "max_dig_row = df_digital.loc[df_digital[\"checkouts\"] == max_dig_int]"
   ]
  },
  {
   "cell_type": "code",
   "execution_count": 10,
   "id": "f35c02d0-5870-44ab-b84c-fd92f9795784",
   "metadata": {},
   "outputs": [
    {
     "data": {
      "text/html": [
       "<div>\n",
       "<style scoped>\n",
       "    .dataframe tbody tr th:only-of-type {\n",
       "        vertical-align: middle;\n",
       "    }\n",
       "\n",
       "    .dataframe tbody tr th {\n",
       "        vertical-align: top;\n",
       "    }\n",
       "\n",
       "    .dataframe thead th {\n",
       "        text-align: right;\n",
       "    }\n",
       "</style>\n",
       "<table border=\"1\" class=\"dataframe\">\n",
       "  <thead>\n",
       "    <tr style=\"text-align: right;\">\n",
       "      <th></th>\n",
       "      <th>usageclass</th>\n",
       "      <th>checkouttype</th>\n",
       "      <th>materialtype</th>\n",
       "      <th>checkoutyear</th>\n",
       "      <th>checkoutmonth</th>\n",
       "      <th>checkouts</th>\n",
       "      <th>title</th>\n",
       "      <th>isbn</th>\n",
       "      <th>creator</th>\n",
       "      <th>subjects</th>\n",
       "      <th>publisher</th>\n",
       "      <th>publicationyear</th>\n",
       "    </tr>\n",
       "  </thead>\n",
       "  <tbody>\n",
       "    <tr>\n",
       "      <th>1123</th>\n",
       "      <td>Physical</td>\n",
       "      <td>Horizon</td>\n",
       "      <td>MIXED</td>\n",
       "      <td>2023</td>\n",
       "      <td>1</td>\n",
       "      <td>2115</td>\n",
       "      <td>Headphones / Seattle Public Library.</td>\n",
       "      <td>NaN</td>\n",
       "      <td>NaN</td>\n",
       "      <td>NaN</td>\n",
       "      <td>Seattle Public Library</td>\n",
       "      <td>NaN</td>\n",
       "    </tr>\n",
       "  </tbody>\n",
       "</table>\n",
       "</div>"
      ],
      "text/plain": [
       "     usageclass checkouttype materialtype  checkoutyear  checkoutmonth  \\\n",
       "1123   Physical      Horizon        MIXED          2023              1   \n",
       "\n",
       "      checkouts                                 title isbn creator subjects  \\\n",
       "1123       2115  Headphones / Seattle Public Library.  NaN     NaN      NaN   \n",
       "\n",
       "                   publisher publicationyear  \n",
       "1123  Seattle Public Library             NaN  "
      ]
     },
     "execution_count": 10,
     "metadata": {},
     "output_type": "execute_result"
    }
   ],
   "source": [
    "max_phys_row"
   ]
  },
  {
   "cell_type": "code",
   "execution_count": 11,
   "id": "64301871-acf7-4f5f-8dd6-83427ed6eb62",
   "metadata": {},
   "outputs": [
    {
     "data": {
      "text/html": [
       "<div>\n",
       "<style scoped>\n",
       "    .dataframe tbody tr th:only-of-type {\n",
       "        vertical-align: middle;\n",
       "    }\n",
       "\n",
       "    .dataframe tbody tr th {\n",
       "        vertical-align: top;\n",
       "    }\n",
       "\n",
       "    .dataframe thead th {\n",
       "        text-align: right;\n",
       "    }\n",
       "</style>\n",
       "<table border=\"1\" class=\"dataframe\">\n",
       "  <thead>\n",
       "    <tr style=\"text-align: right;\">\n",
       "      <th></th>\n",
       "      <th>usageclass</th>\n",
       "      <th>checkouttype</th>\n",
       "      <th>materialtype</th>\n",
       "      <th>checkoutyear</th>\n",
       "      <th>checkoutmonth</th>\n",
       "      <th>checkouts</th>\n",
       "      <th>title</th>\n",
       "      <th>isbn</th>\n",
       "      <th>creator</th>\n",
       "      <th>subjects</th>\n",
       "      <th>publisher</th>\n",
       "      <th>publicationyear</th>\n",
       "    </tr>\n",
       "  </thead>\n",
       "  <tbody>\n",
       "    <tr>\n",
       "      <th>5137</th>\n",
       "      <td>Digital</td>\n",
       "      <td>OverDrive</td>\n",
       "      <td>AUDIOBOOK</td>\n",
       "      <td>2023</td>\n",
       "      <td>1</td>\n",
       "      <td>791</td>\n",
       "      <td>101 Essays That Will Change the Way You Think ...</td>\n",
       "      <td>9.781977e+12</td>\n",
       "      <td>Brianna Wiest</td>\n",
       "      <td>Essays, Philosophy, Self-Improvement, Nonfiction</td>\n",
       "      <td>Tantor Media, Inc</td>\n",
       "      <td>2021</td>\n",
       "    </tr>\n",
       "  </tbody>\n",
       "</table>\n",
       "</div>"
      ],
      "text/plain": [
       "     usageclass checkouttype materialtype  checkoutyear  checkoutmonth  \\\n",
       "5137    Digital    OverDrive    AUDIOBOOK          2023              1   \n",
       "\n",
       "      checkouts                                              title  \\\n",
       "5137        791  101 Essays That Will Change the Way You Think ...   \n",
       "\n",
       "              isbn        creator  \\\n",
       "5137  9.781977e+12  Brianna Wiest   \n",
       "\n",
       "                                              subjects          publisher  \\\n",
       "5137  Essays, Philosophy, Self-Improvement, Nonfiction  Tantor Media, Inc   \n",
       "\n",
       "      publicationyear  \n",
       "5137             2021  "
      ]
     },
     "execution_count": 11,
     "metadata": {},
     "output_type": "execute_result"
    }
   ],
   "source": [
    "max_dig_row"
   ]
  },
  {
   "cell_type": "markdown",
   "id": "b09f4367-4f69-4214-9147-c620a53ff22e",
   "metadata": {
    "jp-MarkdownHeadingCollapsed": true
   },
   "source": [
    "### Die zehn meistausgeliehenen physischen Objekte"
   ]
  },
  {
   "cell_type": "code",
   "execution_count": 12,
   "id": "91f10954-cb3d-4fac-aae9-ed008d6e6b3c",
   "metadata": {},
   "outputs": [],
   "source": [
    "ranking_checkouts_phys_series = df_physical[\"checkouts\"].nlargest(10)"
   ]
  },
  {
   "cell_type": "code",
   "execution_count": 13,
   "id": "7fb9e13a-058e-4679-a892-303b35d400e4",
   "metadata": {},
   "outputs": [
    {
     "data": {
      "text/plain": [
       "pandas.core.series.Series"
      ]
     },
     "execution_count": 13,
     "metadata": {},
     "output_type": "execute_result"
    }
   ],
   "source": [
    "type(ranking_checkouts_phys_series)"
   ]
  },
  {
   "cell_type": "code",
   "execution_count": 14,
   "id": "fecc7e35-5e7f-4e0f-82d8-74476c89beb7",
   "metadata": {},
   "outputs": [
    {
     "name": "stdout",
     "output_type": "stream",
     "text": [
      "1123    2115\n",
      "4770     841\n",
      "8074     485\n",
      "2481     432\n",
      "5942     426\n",
      "4870     416\n",
      "9268     416\n",
      "9699     381\n",
      "301      377\n",
      "1176     373\n",
      "Name: checkouts, dtype: int64\n"
     ]
    }
   ],
   "source": [
    "print(ranking_checkouts_phys_series)"
   ]
  },
  {
   "cell_type": "code",
   "execution_count": 15,
   "id": "579b2cb1-fae4-47a0-8410-48ef2e1cc4e7",
   "metadata": {},
   "outputs": [],
   "source": [
    "df_subset_most_checkouts_phys = df_physical.nlargest(10,\"checkouts\")\n",
    "df_subset_most_checkouts_dig = df_digital.nlargest(10,\"checkouts\")"
   ]
  },
  {
   "cell_type": "code",
   "execution_count": 16,
   "id": "3ef7aff4-cade-4a88-b5e6-605f620a86f9",
   "metadata": {},
   "outputs": [
    {
     "data": {
      "text/plain": [
       "pandas.core.frame.DataFrame"
      ]
     },
     "execution_count": 16,
     "metadata": {},
     "output_type": "execute_result"
    }
   ],
   "source": [
    "type(df_subset_most_checkouts_dig)"
   ]
  },
  {
   "cell_type": "markdown",
   "id": "11710bdf-20eb-45f9-9dc8-acee0f1ecb11",
   "metadata": {
    "jp-MarkdownHeadingCollapsed": true
   },
   "source": [
    "### Die zehn meistgeliehenen physischen Objekte im Januar 2023 mit Art des Objekts, Titel, Urheber und Anzahl der Ausleihen"
   ]
  },
  {
   "cell_type": "code",
   "execution_count": 17,
   "id": "e2e85555-a21c-4edf-a7a1-52fd489032af",
   "metadata": {},
   "outputs": [
    {
     "data": {
      "text/html": [
       "<div>\n",
       "<style scoped>\n",
       "    .dataframe tbody tr th:only-of-type {\n",
       "        vertical-align: middle;\n",
       "    }\n",
       "\n",
       "    .dataframe tbody tr th {\n",
       "        vertical-align: top;\n",
       "    }\n",
       "\n",
       "    .dataframe thead th {\n",
       "        text-align: right;\n",
       "    }\n",
       "</style>\n",
       "<table border=\"1\" class=\"dataframe\">\n",
       "  <thead>\n",
       "    <tr style=\"text-align: right;\">\n",
       "      <th></th>\n",
       "      <th>materialtype</th>\n",
       "      <th>title</th>\n",
       "      <th>creator</th>\n",
       "      <th>checkouts</th>\n",
       "    </tr>\n",
       "  </thead>\n",
       "  <tbody>\n",
       "    <tr>\n",
       "      <th>1123</th>\n",
       "      <td>MIXED</td>\n",
       "      <td>Headphones / Seattle Public Library.</td>\n",
       "      <td>NaN</td>\n",
       "      <td>2115</td>\n",
       "    </tr>\n",
       "    <tr>\n",
       "      <th>4770</th>\n",
       "      <td>MIXED</td>\n",
       "      <td>SPL HotSpot : connecting Seattle / [distribute...</td>\n",
       "      <td>NaN</td>\n",
       "      <td>841</td>\n",
       "    </tr>\n",
       "    <tr>\n",
       "      <th>8074</th>\n",
       "      <td>BOOK</td>\n",
       "      <td>Spare / Prince Harry.</td>\n",
       "      <td>Harry, Prince, Duke of Sussex, 1984-</td>\n",
       "      <td>485</td>\n",
       "    </tr>\n",
       "    <tr>\n",
       "      <th>2481</th>\n",
       "      <td>BOOK</td>\n",
       "      <td>Lessons in chemistry / Bonnie Garmus.</td>\n",
       "      <td>Garmus, Bonnie</td>\n",
       "      <td>432</td>\n",
       "    </tr>\n",
       "    <tr>\n",
       "      <th>5942</th>\n",
       "      <td>BOOK</td>\n",
       "      <td>Our missing hearts : a novel / Celeste Ng.</td>\n",
       "      <td>Ng, Celeste</td>\n",
       "      <td>426</td>\n",
       "    </tr>\n",
       "    <tr>\n",
       "      <th>4870</th>\n",
       "      <td>BOOK</td>\n",
       "      <td>I'm glad my mom died / Jennette McCurdy.</td>\n",
       "      <td>McCurdy, Jennette, 1992-</td>\n",
       "      <td>416</td>\n",
       "    </tr>\n",
       "    <tr>\n",
       "      <th>9268</th>\n",
       "      <td>BOOK</td>\n",
       "      <td>The light we carry : overcoming in uncertain t...</td>\n",
       "      <td>Obama, Michelle, 1964-</td>\n",
       "      <td>416</td>\n",
       "    </tr>\n",
       "    <tr>\n",
       "      <th>9699</th>\n",
       "      <td>BOOK</td>\n",
       "      <td>Dinner in one : exceptional &amp; easy one-pan mea...</td>\n",
       "      <td>Clark, Melissa</td>\n",
       "      <td>381</td>\n",
       "    </tr>\n",
       "    <tr>\n",
       "      <th>301</th>\n",
       "      <td>BOOK</td>\n",
       "      <td>Foster / Claire Keegan.</td>\n",
       "      <td>Keegan, Claire</td>\n",
       "      <td>377</td>\n",
       "    </tr>\n",
       "    <tr>\n",
       "      <th>1176</th>\n",
       "      <td>BOOK</td>\n",
       "      <td>The passenger / Cormac McCarthy.</td>\n",
       "      <td>McCarthy, Cormac, 1933-</td>\n",
       "      <td>373</td>\n",
       "    </tr>\n",
       "  </tbody>\n",
       "</table>\n",
       "</div>"
      ],
      "text/plain": [
       "     materialtype                                              title  \\\n",
       "1123        MIXED               Headphones / Seattle Public Library.   \n",
       "4770        MIXED  SPL HotSpot : connecting Seattle / [distribute...   \n",
       "8074         BOOK                              Spare / Prince Harry.   \n",
       "2481         BOOK              Lessons in chemistry / Bonnie Garmus.   \n",
       "5942         BOOK         Our missing hearts : a novel / Celeste Ng.   \n",
       "4870         BOOK           I'm glad my mom died / Jennette McCurdy.   \n",
       "9268         BOOK  The light we carry : overcoming in uncertain t...   \n",
       "9699         BOOK  Dinner in one : exceptional & easy one-pan mea...   \n",
       "301          BOOK                            Foster / Claire Keegan.   \n",
       "1176         BOOK                   The passenger / Cormac McCarthy.   \n",
       "\n",
       "                                   creator  checkouts  \n",
       "1123                                   NaN       2115  \n",
       "4770                                   NaN        841  \n",
       "8074  Harry, Prince, Duke of Sussex, 1984-        485  \n",
       "2481                        Garmus, Bonnie        432  \n",
       "5942                           Ng, Celeste        426  \n",
       "4870              McCurdy, Jennette, 1992-        416  \n",
       "9268                Obama, Michelle, 1964-        416  \n",
       "9699                        Clark, Melissa        381  \n",
       "301                         Keegan, Claire        377  \n",
       "1176               McCarthy, Cormac, 1933-        373  "
      ]
     },
     "execution_count": 17,
     "metadata": {},
     "output_type": "execute_result"
    }
   ],
   "source": [
    "df_subset_most_checkouts_phys[[\"materialtype\", \"title\", \"creator\", \"checkouts\"]]"
   ]
  },
  {
   "cell_type": "markdown",
   "id": "90051bbf-037c-4b39-ae60-0d9745e6f819",
   "metadata": {
    "jp-MarkdownHeadingCollapsed": true
   },
   "source": [
    "### Die zehn meistgeliehenen digitalen Objekte im Januar 2023 mit Art des Objekts, Titel, Urheber und Anzahl der Ausleihen"
   ]
  },
  {
   "cell_type": "code",
   "execution_count": 18,
   "id": "0da2448c-e27c-4557-9b5c-182054c1cc3c",
   "metadata": {},
   "outputs": [
    {
     "data": {
      "text/html": [
       "<div>\n",
       "<style scoped>\n",
       "    .dataframe tbody tr th:only-of-type {\n",
       "        vertical-align: middle;\n",
       "    }\n",
       "\n",
       "    .dataframe tbody tr th {\n",
       "        vertical-align: top;\n",
       "    }\n",
       "\n",
       "    .dataframe thead th {\n",
       "        text-align: right;\n",
       "    }\n",
       "</style>\n",
       "<table border=\"1\" class=\"dataframe\">\n",
       "  <thead>\n",
       "    <tr style=\"text-align: right;\">\n",
       "      <th></th>\n",
       "      <th>materialtype</th>\n",
       "      <th>title</th>\n",
       "      <th>creator</th>\n",
       "      <th>checkouts</th>\n",
       "    </tr>\n",
       "  </thead>\n",
       "  <tbody>\n",
       "    <tr>\n",
       "      <th>5137</th>\n",
       "      <td>AUDIOBOOK</td>\n",
       "      <td>101 Essays That Will Change the Way You Think ...</td>\n",
       "      <td>Brianna Wiest</td>\n",
       "      <td>791</td>\n",
       "    </tr>\n",
       "    <tr>\n",
       "      <th>441</th>\n",
       "      <td>AUDIOBOOK</td>\n",
       "      <td>Braiding Sweetgrass: Indigenous Wisdom, Scient...</td>\n",
       "      <td>Robin Wall Kimmerer</td>\n",
       "      <td>729</td>\n",
       "    </tr>\n",
       "    <tr>\n",
       "      <th>1426</th>\n",
       "      <td>EBOOK</td>\n",
       "      <td>Lessons in Chemistry: A Novel</td>\n",
       "      <td>Bonnie Garmus</td>\n",
       "      <td>681</td>\n",
       "    </tr>\n",
       "    <tr>\n",
       "      <th>660</th>\n",
       "      <td>EBOOK</td>\n",
       "      <td>Tomorrow, and Tomorrow, and Tomorrow: A novel</td>\n",
       "      <td>Gabrielle Zevin</td>\n",
       "      <td>667</td>\n",
       "    </tr>\n",
       "    <tr>\n",
       "      <th>5570</th>\n",
       "      <td>AUDIOBOOK</td>\n",
       "      <td>I'm Glad My Mom Died (unabridged)</td>\n",
       "      <td>Jennette McCurdy</td>\n",
       "      <td>564</td>\n",
       "    </tr>\n",
       "    <tr>\n",
       "      <th>3172</th>\n",
       "      <td>AUDIOBOOK</td>\n",
       "      <td>Spare (unabridged)</td>\n",
       "      <td>Prince Harry, The Duke of Sussex</td>\n",
       "      <td>533</td>\n",
       "    </tr>\n",
       "    <tr>\n",
       "      <th>8709</th>\n",
       "      <td>AUDIOBOOK</td>\n",
       "      <td>A Court of Thorns and Roses: A Court of Thorns...</td>\n",
       "      <td>Sarah J. Maas</td>\n",
       "      <td>515</td>\n",
       "    </tr>\n",
       "    <tr>\n",
       "      <th>4457</th>\n",
       "      <td>EBOOK</td>\n",
       "      <td>Cloud Cuckoo Land: A Novel</td>\n",
       "      <td>Anthony Doerr</td>\n",
       "      <td>478</td>\n",
       "    </tr>\n",
       "    <tr>\n",
       "      <th>8171</th>\n",
       "      <td>AUDIOBOOK</td>\n",
       "      <td>Tomorrow, and Tomorrow, and Tomorrow: A novel ...</td>\n",
       "      <td>Gabrielle Zevin</td>\n",
       "      <td>466</td>\n",
       "    </tr>\n",
       "    <tr>\n",
       "      <th>6541</th>\n",
       "      <td>EBOOK</td>\n",
       "      <td>The Last Thing He Told Me: A Novel</td>\n",
       "      <td>Laura Dave</td>\n",
       "      <td>440</td>\n",
       "    </tr>\n",
       "  </tbody>\n",
       "</table>\n",
       "</div>"
      ],
      "text/plain": [
       "     materialtype                                              title  \\\n",
       "5137    AUDIOBOOK  101 Essays That Will Change the Way You Think ...   \n",
       "441     AUDIOBOOK  Braiding Sweetgrass: Indigenous Wisdom, Scient...   \n",
       "1426        EBOOK                      Lessons in Chemistry: A Novel   \n",
       "660         EBOOK      Tomorrow, and Tomorrow, and Tomorrow: A novel   \n",
       "5570    AUDIOBOOK                  I'm Glad My Mom Died (unabridged)   \n",
       "3172    AUDIOBOOK                                 Spare (unabridged)   \n",
       "8709    AUDIOBOOK  A Court of Thorns and Roses: A Court of Thorns...   \n",
       "4457        EBOOK                         Cloud Cuckoo Land: A Novel   \n",
       "8171    AUDIOBOOK  Tomorrow, and Tomorrow, and Tomorrow: A novel ...   \n",
       "6541        EBOOK                 The Last Thing He Told Me: A Novel   \n",
       "\n",
       "                               creator  checkouts  \n",
       "5137                     Brianna Wiest        791  \n",
       "441                Robin Wall Kimmerer        729  \n",
       "1426                     Bonnie Garmus        681  \n",
       "660                    Gabrielle Zevin        667  \n",
       "5570                  Jennette McCurdy        564  \n",
       "3172  Prince Harry, The Duke of Sussex        533  \n",
       "8709                     Sarah J. Maas        515  \n",
       "4457                     Anthony Doerr        478  \n",
       "8171                   Gabrielle Zevin        466  \n",
       "6541                        Laura Dave        440  "
      ]
     },
     "execution_count": 18,
     "metadata": {},
     "output_type": "execute_result"
    }
   ],
   "source": [
    "df_subset_most_checkouts_dig[[\"materialtype\", \"title\", \"creator\", \"checkouts\"]]"
   ]
  },
  {
   "cell_type": "markdown",
   "id": "9a729a06-21e8-49f2-a71f-0416799bb5ec",
   "metadata": {},
   "source": [
    "### Visualisierung"
   ]
  },
  {
   "cell_type": "code",
   "execution_count": 19,
   "id": "6ed8c0ae-dc7b-491e-ab65-af544c164dbe",
   "metadata": {},
   "outputs": [],
   "source": [
    "%matplotlib inline"
   ]
  },
  {
   "cell_type": "code",
   "execution_count": 27,
   "id": "412d7876-8f49-4092-a619-f7ac37f96ae9",
   "metadata": {},
   "outputs": [
    {
     "data": {
      "text/plain": [
       "0       2022\n",
       "1       2022\n",
       "2       2009\n",
       "3       2022\n",
       "4       2017\n",
       "        ... \n",
       "8862    2022\n",
       "8863    2016\n",
       "8864    2020\n",
       "8865    2018\n",
       "8866    2022\n",
       "Name: publicationyear, Length: 8867, dtype: int64"
      ]
     },
     "execution_count": 27,
     "metadata": {},
     "output_type": "execute_result"
    }
   ],
   "source": [
    "df_digital[\"publicationyear\"]"
   ]
  },
  {
   "cell_type": "code",
   "execution_count": 34,
   "id": "7ba04da7-307c-41d4-90b3-e0df17447824",
   "metadata": {},
   "outputs": [
    {
     "data": {
      "text/plain": [
       "<Axes: xlabel='publicationyear'>"
      ]
     },
     "execution_count": 34,
     "metadata": {},
     "output_type": "execute_result"
    }
   ],
   "source": [
    "df_digital[\"publicationyear\"].value_counts().sort_values(ascending=True).plot.bar()"
   ]
  },
  {
   "cell_type": "code",
   "execution_count": 35,
   "id": "d4adff2f-5fc0-42b7-8505-c763ff4bb20c",
   "metadata": {},
   "outputs": [
    {
     "data": {
      "image/png": "[encoded data removed]",
      "text/plain": [
       "<Figure size 640x480 with 1 Axes>"
      ]
     },
     "metadata": {},
     "output_type": "display_data"
    }
   ],
   "source": [
    "plt.show()"
   ]
  },
  {
   "cell_type": "markdown",
   "id": "99476035-f881-4ca3-8cab-f8411589673d",
   "metadata": {},
   "source": [
    "## (2) Wie viele Comics mit Erscheinungsjahr 2005 finden sich in der Collection? "
   ]
  },
  {
   "cell_type": "markdown",
   "id": "3afd6732-1843-42a0-bd14-dbe89183fb4c",
   "metadata": {},
   "source": [
    "Zur Beantwortung der Frage sollen ein Ausschnitt des Library Collection Inventory und das ILS Data Dictionary kombiniert werden, um die Codes im ILS aufzulösen."
   ]
  },
  {
   "cell_type": "markdown",
   "id": "4ca78d5e-e808-4f00-97a1-990e41400218",
   "metadata": {},
   "source": [
    "### ILS Data Dictionary laden"
   ]
  },
  {
   "cell_type": "code",
   "execution_count": null,
   "id": "a74b27f3-b598-4e92-b99c-eb5c13c9de70",
   "metadata": {},
   "outputs": [],
   "source": [
    "url = \"https://data.seattle.gov/resource/pbt3-ytbc.json\"\n",
    "local_file = \"seattle_dd.json\"\n",
    "urllib.request.urlretrieve(url, local_file)"
   ]
  },
  {
   "cell_type": "code",
   "execution_count": null,
   "id": "df26d2e4-a5f1-4e2d-961e-2965e109304f",
   "metadata": {},
   "outputs": [],
   "source": [
    "df_data_dict = pd.read_json(\"seattle_dd.json\")"
   ]
  },
  {
   "cell_type": "code",
   "execution_count": null,
   "id": "a3a035af-f32d-4596-a6e4-82ff15776e62",
   "metadata": {},
   "outputs": [],
   "source": [
    "df_data_dict"
   ]
  },
  {
   "cell_type": "markdown",
   "id": "f7e68fa2-d4ed-47d0-95cd-372e17689718",
   "metadata": {},
   "source": [
    "### Load Library Collection Inventory\n",
    "\n",
    "Versuch: Titel mit Erscheinungsjahr 2005 herunterzuladen, allerdings: in Feld publicationyear verschiedene Formatierungen für Druck/Erscheinungs/Copyrightjahr, deshalb ggf. nicht alles gefunden.\n",
    "Vgl. https://data.seattle.gov/api/views/6vkj-f5xf/files/61a7279a-85fb-4061-8a65-6c09bb63ecbe?download=true&filename=Library%20Collection%20Inventory%20FAQs.pdf \n",
    "\n",
    "Herunterladen sollte eigentlich schrittweise erfolgen - aber der Versuch, über $order die Abfrage zu sortieren hat nicht funktioniert. \n",
    "\n",
    "Deshalb werden jetzt willkürlich einfach 50.000 Titel heruntergeladen."
   ]
  },
  {
   "cell_type": "code",
   "execution_count": null,
   "id": "031bbe27-4919-4c56-a8f0-23a19f8e5db0",
   "metadata": {},
   "outputs": [],
   "source": [
    "limit = 10000\n",
    "offset = 0\n",
    "base_url = \"https://data.seattle.gov/resource/6vkj-f5xf.json\"\n",
    "#query = \"?$where=publicationyear%20in%20(%272005%27,%20%27[2005]%27,%20%272005.%27,%27[2005].%27,%27[2005?]%27,%27[c2005.]%27,%27[p2005.]%27)&itemlocation='cen'\"\n",
    "query = \"?$where=publicationyear%20in%20(%272005%27,%20%27[2005]%27,%20%272005.%27,%27[2005].%27,%27[2005?]%27,%27[c2005.]%27,%27[p2005.]%27)\"\n",
    "#order = \"&$order=bibnum%20ASC\"\n",
    "order = \"\"\n",
    "df_seattle_lci2005 = pd.DataFrame()\n",
    "df_temp = pd.DataFrame()\n",
    "#url = \"https://data.seattle.gov/resource/6vkj-f5xf.json?$where=publicationyear%20in%20(%272005%27,%20%27[2005]%27)&$limit=20000\"\n",
    "#url = \"https://data.seattle.gov/resource/6vkj-f5xf.json?&$limit=10000\"\n",
    "found_data = True\n",
    "n = 0\n",
    "#while found_data:\n",
    "while found_data and n < 5:\n",
    "    local_file = f\"seattle-lci_{n}.json\"\n",
    "    limit_and_offset = f\"&$limit={limit}&$offset={offset}\"\n",
    "    print(base_url+query+limit_and_offset+order)\n",
    "    urllib.request.urlretrieve(base_url+query+limit_and_offset, local_file)\n",
    "    offset += limit\n",
    "    n += 1\n",
    "    df_temp = pd.read_json(local_file)\n",
    "    df_seattle_lci2005 = pd.concat([df_seattle_lci2005, df_temp])\n",
    "    if df_temp.empty:\n",
    "        print(\"leeres Datenset\")\n",
    "        found_data = False"
   ]
  },
  {
   "cell_type": "code",
   "execution_count": null,
   "id": "e7009110-ba5c-42d6-92ef-76e1292a9ba4",
   "metadata": {},
   "outputs": [],
   "source": [
    "df_seattle_lci2005.shape"
   ]
  },
  {
   "cell_type": "code",
   "execution_count": null,
   "id": "cae01fd2-8b60-435f-aeb6-a256ec21e5f4",
   "metadata": {},
   "outputs": [],
   "source": [
    "df_seattle_lci2005 = df_seattle_lci2005.drop_duplicates()"
   ]
  },
  {
   "cell_type": "code",
   "execution_count": null,
   "id": "cff2013d-3bef-447c-b0f4-12b2e24c56b5",
   "metadata": {},
   "outputs": [],
   "source": [
    "df_seattle_lci2005.shape"
   ]
  },
  {
   "cell_type": "code",
   "execution_count": null,
   "id": "b6ff5479-0924-4ae0-b865-b9a06b3ce9a2",
   "metadata": {},
   "outputs": [],
   "source": [
    "df_seattle_lci2005 = df_seattle_lci2005.reset_index()"
   ]
  },
  {
   "cell_type": "code",
   "execution_count": null,
   "id": "328a8122-b82c-4d15-99e9-e77de3bec963",
   "metadata": {},
   "outputs": [],
   "source": [
    "df_seattle_lci2005[\"publicationyear\"].unique()"
   ]
  },
  {
   "cell_type": "code",
   "execution_count": null,
   "id": "20932dd8-4278-42c4-8aab-3a7dd166971d",
   "metadata": {},
   "outputs": [],
   "source": [
    "df_seattle_lci2005[pd.notnull(df_seattle_lci2005[\"itemcollection\"])]"
   ]
  },
  {
   "cell_type": "code",
   "execution_count": null,
   "id": "5607772d-4b30-4031-8006-6ad51476195b",
   "metadata": {},
   "outputs": [],
   "source": [
    "lci_table_reduced = df_seattle_lci2005[[\"bibnum\", \"title\", \"author\", \"isbn\", \"itemcollection\"]]"
   ]
  },
  {
   "cell_type": "code",
   "execution_count": null,
   "id": "0412c0d0-9f31-43b1-87c9-94d267df43b8",
   "metadata": {},
   "outputs": [],
   "source": [
    "df_seattle_lci2005.sort_values([\"bibnum\"])"
   ]
  },
  {
   "cell_type": "code",
   "execution_count": null,
   "id": "a8e3fb69-c908-440f-9c80-2a354d919fc8",
   "metadata": {},
   "outputs": [],
   "source": [
    "lci_table_reduced"
   ]
  },
  {
   "cell_type": "code",
   "execution_count": null,
   "id": "b3424897-5ce6-4e50-a24e-d688ff3b2a88",
   "metadata": {},
   "outputs": [],
   "source": [
    "lci_tables_combined = pd.merge(lci_table_reduced, df_data_dict, left_on=\"itemcollection\", right_on=\"code\")"
   ]
  },
  {
   "cell_type": "code",
   "execution_count": null,
   "id": "32eea385-ae73-4fa1-9a10-2bf1a7519aa0",
   "metadata": {},
   "outputs": [],
   "source": [
    "lci_tables_combined"
   ]
  },
  {
   "cell_type": "markdown",
   "id": "b29369c0-3191-4773-a5e5-1a87d4607283",
   "metadata": {},
   "source": [
    "### Comics in der heruntergeladenen Auswahl an Titeln"
   ]
  },
  {
   "cell_type": "code",
   "execution_count": null,
   "id": "b0f64dbc-b18c-4705-93b4-f8b29f05d019",
   "metadata": {},
   "outputs": [],
   "source": [
    "lci_tables_combined[lci_tables_combined[\"category_subgroup\"]==\"Comic\"]"
   ]
  },
  {
   "cell_type": "markdown",
   "id": "2f15a7b3-d19f-445e-8ee8-d23ee40cdaa8",
   "metadata": {},
   "source": [
    "## (3) Welche der im Januar 2023 meistausgeliehenen physischen Objekte mit Erscheinungsjahr 2005 sind auf Kinder ausgerichtet?"
   ]
  },
  {
   "cell_type": "markdown",
   "id": "9ca8a329-7374-4411-8fe1-3cd7aadc46f8",
   "metadata": {},
   "source": [
    "### Kombination der Tabellen zu meistausgeliehenen Objekten, Data Dictionary und Auswahl der Titel mit Erscheinungsjahr 2005"
   ]
  },
  {
   "cell_type": "code",
   "execution_count": null,
   "id": "a3107ffb-a99a-4e5b-a9a5-c3ec11b12853",
   "metadata": {},
   "outputs": [],
   "source": [
    "df_physical_reduced = df_physical[[\"materialtype\",\"checkouts\",\"title\",\"creator\",\"isbn\",\"subjects\"]]"
   ]
  },
  {
   "cell_type": "code",
   "execution_count": null,
   "id": "7e6c20ee-ce60-45c6-94ce-af584d6e0358",
   "metadata": {},
   "outputs": [],
   "source": [
    "df_physical_reduced = df_physical_reduced.rename(columns= {\"creator\":\"author\"})"
   ]
  },
  {
   "cell_type": "markdown",
   "id": "9d39bd8b-5701-458d-bd15-a3ceee3d659e",
   "metadata": {},
   "source": [
    "Inner Join wird durchgeführt auf der Kombination aus Autor, Titel und ISBN"
   ]
  },
  {
   "cell_type": "code",
   "execution_count": null,
   "id": "47554723-d549-4cf9-8be6-494d5e500fab",
   "metadata": {},
   "outputs": [],
   "source": [
    "df_checkout_lci_dd_combined = pd.merge(lci_tables_combined, df_physical_reduced, how=\"inner\", left_on=[\"author\",\"title\",\"isbn\"], right_on=[\"author\",\"title\",\"isbn\"])"
   ]
  },
  {
   "cell_type": "code",
   "execution_count": null,
   "id": "ba1b69cc-15ad-43ee-af08-adfd160a3219",
   "metadata": {},
   "outputs": [],
   "source": [
    "df_checkout_lci_dd_combined"
   ]
  },
  {
   "cell_type": "markdown",
   "id": "1d703a5c-8b72-4e1a-bde9-70f882f4f256",
   "metadata": {},
   "source": [
    "## Physische Werke für Kinder mit Erscheinungsjahr 2005"
   ]
  },
  {
   "cell_type": "code",
   "execution_count": null,
   "id": "03cf1518-b234-4527-874a-aac07b5b5540",
   "metadata": {},
   "outputs": [],
   "source": [
    "df_checkout_lci_dd_combined[df_checkout_lci_dd_combined[\"age_group\"] == \"Juvenile\"]"
   ]
  }
 ],
 "metadata": {
  "kernelspec": {
   "display_name": "Python 3 (ipykernel)",
   "language": "python",
   "name": "python3"
  },
  "language_info": {
   "codemirror_mode": {
    "name": "ipython",
    "version": 3
   },
   "file_extension": ".py",
   "mimetype": "text/x-python",
   "name": "python",
   "nbconvert_exporter": "python",
   "pygments_lexer": "ipython3",
   "version": "3.12.7"
  }
 },
 "nbformat": 4,
 "nbformat_minor": 5
}
