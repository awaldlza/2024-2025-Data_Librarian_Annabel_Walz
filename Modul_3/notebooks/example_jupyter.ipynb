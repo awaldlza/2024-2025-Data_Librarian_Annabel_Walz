{
 "cells": [
  {
   "cell_type": "markdown",
   "metadata": {},
   "source": [
    "# Jupyter Notebook Beispiel Annabel\n",
    "\n",
    "- Das hier ist eine Text-Zelle geschrieben in [Markdown](https://github.com/adam-p/markdown-here/wiki/Markdown-Cheatsheet).\n",
    "- Mit einem Doppelklick in die Zelle, kannst Du den Text bearbeiten.\n",
    "- Mit einem Klick auf den `Run` Button oder mit der Tastenkombination `Strg`+`Enter` kannst Du Code in Zellen ausführen oder Markdown Text rendern."
   ]
  },
  {
   "cell_type": "code",
   "execution_count": 12,
   "metadata": {},
   "outputs": [
    {
     "data": {
      "image/png": "[encoded data removed]",
      "text/plain": [
       "<Figure size 500x500 with 1 Axes>"
      ]
     },
     "metadata": {},
     "output_type": "display_data"
    }
   ],
   "source": [
    "# das hier ist eine Zelle mit Programmcode!\n",
    "\n",
    "# zuerst werden die benötgten libraries importiert\n",
    "import numpy as np\n",
    "import matplotlib.pyplot as plt\n",
    "import seaborn as sns\n",
    "\n",
    "# sns.set_theme() verschönert das Aussehen der plots\n",
    "sns.set_theme()\n",
    "\n",
    "# 100 normalverteilte Zahlen werden generiert\n",
    "random_numbers = np.random.normal(size = 100)\n",
    "\n",
    "# plot mit z.B. displot erstellen\n",
    "plot = sns.displot(random_numbers, color=\"violet\").set(title=\"Something\")\n",
    "\n",
    "#Du kannst diese Programmcodezelle mehrmals ausführen und so werden \n",
    "#jedesmal unterschiedliche normalverteilte Zahlen generiert und entsprechend ändern sich die Plots."
   ]
  },
  {
   "cell_type": "code",
   "execution_count": 24,
   "metadata": {},
   "outputs": [
    {
     "data": {
      "text/plain": [
       "121.98992887174313"
      ]
     },
     "execution_count": 24,
     "metadata": {},
     "output_type": "execute_result"
    }
   ],
   "source": [
    "# import the library and give it a shorter name 'np'\n",
    "import numpy as np\n",
    "\n",
    "# create 100 randomly distributed numbers\n",
    "X = np.random.normal(size=100)\n",
    "\n",
    "# transform X into a 2-dimensional array of size 20x5\n",
    "Y = X.reshape((20, 5))\n",
    "YT = Y.T\n",
    "\n",
    "# calculate the matrix dot product: X*X', where X' is the transpose of X\n",
    "X.dot(X.T)\n"
   ]
  },
  {
   "cell_type": "code",
   "execution_count": 26,
   "metadata": {},
   "outputs": [
    {
     "name": "stdout",
     "output_type": "stream",
     "text": [
      "[[ 1.74097761  0.53258931 -0.53566773 -0.52220246 -0.87309441]\n",
      " [ 2.89247838 -1.05530503 -0.26958742 -0.51187096 -1.16475062]\n",
      " [ 0.50677775 -2.40098056 -0.73512286  0.66843929 -0.24422794]\n",
      " [ 0.48860454 -0.52101238  1.17981555  2.07313367  0.9215875 ]\n",
      " [ 2.00373328 -0.76500262  0.31383899 -0.02685105  0.19626798]\n",
      " [-0.34579526  2.18813846  1.75029361 -0.60873234  0.28899532]\n",
      " [-0.11150361 -1.08712423  0.29039367 -0.47779419 -2.63509485]\n",
      " [-0.88771044 -1.3276088  -0.87995266  0.08981641 -1.61525932]\n",
      " [-0.18105477  1.06705045 -0.4487528   0.33705748  0.55320441]\n",
      " [ 0.40106557  1.85963149  0.14235167 -0.46454736 -0.41353595]\n",
      " [ 0.32873016  1.72199744  0.37664087  1.68324628 -1.56854923]\n",
      " [ 0.65028499  1.29863538  1.35789163  0.03238796 -0.11089185]\n",
      " [-0.11975954 -0.48702768 -0.80671996 -1.70599156  1.80416073]\n",
      " [ 1.22649148  0.74652723  1.07776287  0.09555112  0.66231301]\n",
      " [ 0.48914223 -0.05446254  0.2099786   0.57334888 -0.22534855]\n",
      " [ 0.33097816 -0.29014247  0.52027593  2.69061171 -0.49095985]\n",
      " [ 1.24768949 -1.17242266  0.39799275 -0.81350527  0.73431183]\n",
      " [ 1.34801695 -0.27194076  0.91555174 -0.17038757 -1.21280767]\n",
      " [ 1.32516565 -0.49126556 -0.36597221 -0.1025425  -0.20571032]\n",
      " [-2.5480088  -0.17933897  2.82854974 -0.90196816  0.90678349]]\n"
     ]
    }
   ],
   "source": [
    "print(Y)"
   ]
  },
  {
   "cell_type": "code",
   "execution_count": 28,
   "metadata": {},
   "outputs": [
    {
     "name": "stdout",
     "output_type": "stream",
     "text": [
      "[[ 1.74097761  2.89247838  0.50677775  0.48860454  2.00373328 -0.34579526\n",
      "  -0.11150361 -0.88771044 -0.18105477  0.40106557  0.32873016  0.65028499\n",
      "  -0.11975954  1.22649148  0.48914223  0.33097816  1.24768949  1.34801695\n",
      "   1.32516565 -2.5480088 ]\n",
      " [ 0.53258931 -1.05530503 -2.40098056 -0.52101238 -0.76500262  2.18813846\n",
      "  -1.08712423 -1.3276088   1.06705045  1.85963149  1.72199744  1.29863538\n",
      "  -0.48702768  0.74652723 -0.05446254 -0.29014247 -1.17242266 -0.27194076\n",
      "  -0.49126556 -0.17933897]\n",
      " [-0.53566773 -0.26958742 -0.73512286  1.17981555  0.31383899  1.75029361\n",
      "   0.29039367 -0.87995266 -0.4487528   0.14235167  0.37664087  1.35789163\n",
      "  -0.80671996  1.07776287  0.2099786   0.52027593  0.39799275  0.91555174\n",
      "  -0.36597221  2.82854974]\n",
      " [-0.52220246 -0.51187096  0.66843929  2.07313367 -0.02685105 -0.60873234\n",
      "  -0.47779419  0.08981641  0.33705748 -0.46454736  1.68324628  0.03238796\n",
      "  -1.70599156  0.09555112  0.57334888  2.69061171 -0.81350527 -0.17038757\n",
      "  -0.1025425  -0.90196816]\n",
      " [-0.87309441 -1.16475062 -0.24422794  0.9215875   0.19626798  0.28899532\n",
      "  -2.63509485 -1.61525932  0.55320441 -0.41353595 -1.56854923 -0.11089185\n",
      "   1.80416073  0.66231301 -0.22534855 -0.49095985  0.73431183 -1.21280767\n",
      "  -0.20571032  0.90678349]]\n"
     ]
    }
   ],
   "source": [
    "print(YT)"
   ]
  },
  {
   "cell_type": "code",
   "execution_count": 34,
   "metadata": {},
   "outputs": [
    {
     "data": {
      "text/plain": [
       "30"
      ]
     },
     "execution_count": 34,
     "metadata": {},
     "output_type": "execute_result"
    }
   ],
   "source": [
    "# import the library and give it a shorter name 'np'\n",
    "import numpy as np\n",
    "\n",
    "# create 100 randomly distributed numbers\n",
    "X = np.asarray([1,2,3,4])\n",
    "\n",
    "# transform X into a 2-dimensional array of size 20x5\n",
    "Y = X.reshape((2, 2))\n",
    "YT = Y.T\n",
    "\n",
    "# calculate the matrix dot product: X*X', where X' is the transpose of X\n",
    "X.dot(X.T)\n"
   ]
  },
  {
   "cell_type": "code",
   "execution_count": null,
   "metadata": {},
   "outputs": [],
   "source": []
  }
 ],
 "metadata": {
  "kernelspec": {
   "display_name": "Python [conda env:base] *",
   "language": "python",
   "name": "conda-base-py"
  },
  "language_info": {
   "codemirror_mode": {
    "name": "ipython",
    "version": 3
   },
   "file_extension": ".py",
   "mimetype": "text/x-python",
   "name": "python",
   "nbconvert_exporter": "python",
   "pygments_lexer": "ipython3",
   "version": "3.12.7"
  }
 },
 "nbformat": 4,
 "nbformat_minor": 4
}
